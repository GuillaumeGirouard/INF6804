{
 "cells": [
  {
   "cell_type": "code",
   "execution_count": 8,
   "metadata": {},
   "outputs": [
    {
     "name": "stdout",
     "output_type": "stream",
     "text": [
      "Collecting torchvision\n",
      "  Downloading torchvision-0.14.1-cp310-cp310-win_amd64.whl (1.1 MB)\n",
      "     ---------------------------------------- 1.1/1.1 MB 5.3 MB/s eta 0:00:00\n",
      "Requirement already satisfied: torch==1.13.1 in c:\\users\\pierr\\appdata\\local\\programs\\python\\python310\\lib\\site-packages (from torchvision) (1.13.1)\n",
      "Requirement already satisfied: numpy in c:\\users\\pierr\\appdata\\local\\programs\\python\\python310\\lib\\site-packages (from torchvision) (1.21.4)\n",
      "Requirement already satisfied: requests in c:\\users\\pierr\\appdata\\local\\programs\\python\\python310\\lib\\site-packages (from torchvision) (2.28.1)\n",
      "Requirement already satisfied: typing-extensions in c:\\users\\pierr\\appdata\\local\\programs\\python\\python310\\lib\\site-packages (from torchvision) (4.3.0)\n",
      "Requirement already satisfied: pillow!=8.3.*,>=5.3.0 in c:\\users\\pierr\\appdata\\local\\programs\\python\\python310\\lib\\site-packages (from torchvision) (9.0.1)\n",
      "Requirement already satisfied: charset-normalizer<3,>=2 in c:\\users\\pierr\\appdata\\local\\programs\\python\\python310\\lib\\site-packages (from requests->torchvision) (2.1.1)\n",
      "Requirement already satisfied: certifi>=2017.4.17 in c:\\users\\pierr\\appdata\\local\\programs\\python\\python310\\lib\\site-packages (from requests->torchvision) (2022.9.14)\n",
      "Requirement already satisfied: idna<4,>=2.5 in c:\\users\\pierr\\appdata\\local\\programs\\python\\python310\\lib\\site-packages (from requests->torchvision) (3.4)\n",
      "Requirement already satisfied: urllib3<1.27,>=1.21.1 in c:\\users\\pierr\\appdata\\local\\programs\\python\\python310\\lib\\site-packages (from requests->torchvision) (1.26.12)\n",
      "Installing collected packages: torchvision\n",
      "Successfully installed torchvision-0.14.1\n",
      "Note: you may need to restart the kernel to use updated packages.\n"
     ]
    },
    {
     "name": "stderr",
     "output_type": "stream",
     "text": [
      "WARNING: Ignoring invalid distribution -rotobuf (c:\\users\\pierr\\appdata\\local\\programs\\python\\python310\\lib\\site-packages)\n",
      "WARNING: Ignoring invalid distribution - (c:\\users\\pierr\\appdata\\local\\programs\\python\\python310\\lib\\site-packages)\n",
      "WARNING: Ignoring invalid distribution -rotobuf (c:\\users\\pierr\\appdata\\local\\programs\\python\\python310\\lib\\site-packages)\n",
      "WARNING: Ignoring invalid distribution - (c:\\users\\pierr\\appdata\\local\\programs\\python\\python310\\lib\\site-packages)\n",
      "WARNING: Ignoring invalid distribution -rotobuf (c:\\users\\pierr\\appdata\\local\\programs\\python\\python310\\lib\\site-packages)\n",
      "WARNING: Ignoring invalid distribution - (c:\\users\\pierr\\appdata\\local\\programs\\python\\python310\\lib\\site-packages)\n",
      "WARNING: Ignoring invalid distribution -rotobuf (c:\\users\\pierr\\appdata\\local\\programs\\python\\python310\\lib\\site-packages)\n",
      "WARNING: Ignoring invalid distribution - (c:\\users\\pierr\\appdata\\local\\programs\\python\\python310\\lib\\site-packages)\n",
      "WARNING: Ignoring invalid distribution -rotobuf (c:\\users\\pierr\\appdata\\local\\programs\\python\\python310\\lib\\site-packages)\n",
      "WARNING: Ignoring invalid distribution - (c:\\users\\pierr\\appdata\\local\\programs\\python\\python310\\lib\\site-packages)\n",
      "WARNING: Ignoring invalid distribution -rotobuf (c:\\users\\pierr\\appdata\\local\\programs\\python\\python310\\lib\\site-packages)\n",
      "WARNING: Ignoring invalid distribution - (c:\\users\\pierr\\appdata\\local\\programs\\python\\python310\\lib\\site-packages)\n",
      "WARNING: Ignoring invalid distribution -rotobuf (c:\\users\\pierr\\appdata\\local\\programs\\python\\python310\\lib\\site-packages)\n",
      "WARNING: Ignoring invalid distribution - (c:\\users\\pierr\\appdata\\local\\programs\\python\\python310\\lib\\site-packages)\n",
      "\n",
      "[notice] A new release of pip available: 22.3 -> 23.0\n",
      "[notice] To update, run: python.exe -m pip install --upgrade pip\n"
     ]
    }
   ],
   "source": [
    "%pip install torch\n",
    "%pip install torchvision"
   ]
  },
  {
   "cell_type": "code",
   "execution_count": 98,
   "metadata": {},
   "outputs": [
    {
     "name": "stdout",
     "output_type": "stream",
     "text": [
      "Requirement already satisfied: numpy in c:\\users\\pierr\\appdata\\local\\programs\\python\\python310\\lib\\site-packages (1.21.4)\n",
      "Collecting numpy\n",
      "  Downloading numpy-1.24.2-cp310-cp310-win_amd64.whl (14.8 MB)\n",
      "     ---------------------------------------- 14.8/14.8 MB 3.8 MB/s eta 0:00:00\n",
      "Installing collected packages: numpy\n",
      "  Attempting uninstall: numpy\n",
      "    Found existing installation: numpy 1.21.4\n",
      "    Uninstalling numpy-1.21.4:\n",
      "      Successfully uninstalled numpy-1.21.4\n",
      "Note: you may need to restart the kernel to use updated packages.\n"
     ]
    },
    {
     "name": "stderr",
     "output_type": "stream",
     "text": [
      "WARNING: Ignoring invalid distribution -rotobuf (c:\\users\\pierr\\appdata\\local\\programs\\python\\python310\\lib\\site-packages)\n",
      "WARNING: Ignoring invalid distribution - (c:\\users\\pierr\\appdata\\local\\programs\\python\\python310\\lib\\site-packages)\n",
      "WARNING: Ignoring invalid distribution -rotobuf (c:\\users\\pierr\\appdata\\local\\programs\\python\\python310\\lib\\site-packages)\n",
      "WARNING: Ignoring invalid distribution - (c:\\users\\pierr\\appdata\\local\\programs\\python\\python310\\lib\\site-packages)\n",
      "WARNING: Ignoring invalid distribution -rotobuf (c:\\users\\pierr\\appdata\\local\\programs\\python\\python310\\lib\\site-packages)\n",
      "WARNING: Ignoring invalid distribution - (c:\\users\\pierr\\appdata\\local\\programs\\python\\python310\\lib\\site-packages)\n",
      "    WARNING: Ignoring invalid distribution -rotobuf (c:\\users\\pierr\\appdata\\local\\programs\\python\\python310\\lib\\site-packages)\n",
      "    WARNING: Ignoring invalid distribution - (c:\\users\\pierr\\appdata\\local\\programs\\python\\python310\\lib\\site-packages)\n",
      "ERROR: Could not install packages due to an OSError: [WinError 5] Accès refusé: 'C:\\\\Users\\\\pierr\\\\AppData\\\\Local\\\\Programs\\\\Python\\\\Python310\\\\Lib\\\\site-packages\\\\~umpy\\\\.libs\\\\libopenblas.XWYDX2IKJW2NMTWSFYNGFUWKQU3LYTCZ.gfortran-win_amd64.dll'\n",
      "Consider using the `--user` option or check the permissions.\n",
      "\n",
      "WARNING: Ignoring invalid distribution -rotobuf (c:\\users\\pierr\\appdata\\local\\programs\\python\\python310\\lib\\site-packages)\n",
      "WARNING: Ignoring invalid distribution - (c:\\users\\pierr\\appdata\\local\\programs\\python\\python310\\lib\\site-packages)\n",
      "WARNING: Ignoring invalid distribution -rotobuf (c:\\users\\pierr\\appdata\\local\\programs\\python\\python310\\lib\\site-packages)\n",
      "WARNING: Ignoring invalid distribution - (c:\\users\\pierr\\appdata\\local\\programs\\python\\python310\\lib\\site-packages)\n",
      "WARNING: Ignoring invalid distribution -rotobuf (c:\\users\\pierr\\appdata\\local\\programs\\python\\python310\\lib\\site-packages)\n",
      "WARNING: Ignoring invalid distribution - (c:\\users\\pierr\\appdata\\local\\programs\\python\\python310\\lib\\site-packages)\n",
      "\n",
      "[notice] A new release of pip available: 22.3 -> 23.0\n",
      "[notice] To update, run: python.exe -m pip install --upgrade pip\n"
     ]
    }
   ],
   "source": [
    "%pip install --upgrade numpy"
   ]
  },
  {
   "cell_type": "code",
   "execution_count": 1,
   "metadata": {},
   "outputs": [],
   "source": [
    "\n",
    "import matplotlib.pyplot as plt\n",
    "import numpy as np\n",
    "from pathlib import Path\n",
    "\n",
    "from PIL import Image\n",
    "import matplotlib.colors as mcolors\n",
    "import matplotlib.pyplot as plt\n",
    "import numpy as np\n",
    "import torch\n",
    "import torchvision.transforms as transforms\n",
    "import torchvision.models as models\n",
    "from skimage import io\n",
    "import os"
   ]
  },
  {
   "cell_type": "code",
   "execution_count": 42,
   "metadata": {},
   "outputs": [],
   "source": [
    "pathToCategories = \"./baseline/baseline/\"\n",
    "# labels=[\"highway\", \"office\", \"pedestrians\", \"PETS2006\"]\n",
    "# fonction d'acquisition des donnees dentrees et de validation pour l'analyse par rapport a une categories de video mis en parametre\n",
    "def init_dataset(labels):\n",
    "    input_data = {}\n",
    "    groundTruth_data = {}\n",
    "    nb_image = {}\n",
    "    i=0\n",
    "    for label in labels:\n",
    "        input_data[label] = [str(p) for p in Path(\n",
    "            pathToCategories+label+\"/input/\").glob('*.jpg')]\n",
    "        groundTruth_data[label] = [str(p) for p in Path(\n",
    "            pathToCategories+label+\"/groundtruth/\").glob('*.png')]\n",
    "        nb_image[label] = len(input_data[label])\n",
    "    return nb_image,input_data,groundTruth_data\n"
   ]
  },
  {
   "cell_type": "code",
   "execution_count": 31,
   "metadata": {},
   "outputs": [
    {
     "ename": "TypeError",
     "evalue": "init_dataset() takes 1 positional argument but 2 were given",
     "output_type": "error",
     "traceback": [
      "\u001b[1;31m---------------------------------------------------------------------------\u001b[0m",
      "\u001b[1;31mTypeError\u001b[0m                                 Traceback (most recent call last)",
      "\u001b[1;32md:\\POLYM1\\TrimestreHiver2023\\INF6804\\INF6804\\TP2\\tp2.ipynb Cellule 5\u001b[0m in \u001b[0;36m<cell line: 1>\u001b[1;34m()\u001b[0m\n\u001b[1;32m----> <a href='vscode-notebook-cell:/d%3A/POLYM1/TrimestreHiver2023/INF6804/INF6804/TP2/tp2.ipynb#X32sZmlsZQ%3D%3D?line=0'>1</a>\u001b[0m input_data,groundTruth_data\u001b[39m=\u001b[39minit_dataset(labels,\u001b[39m4\u001b[39;49m)\n",
      "\u001b[1;31mTypeError\u001b[0m: init_dataset() takes 1 positional argument but 2 were given"
     ]
    }
   ],
   "source": [
    "input_data,groundTruth_data=init_dataset(labels,4)"
   ]
  },
  {
   "attachments": {},
   "cell_type": "markdown",
   "metadata": {},
   "source": [
    "### Segmentation sémantique"
   ]
  },
  {
   "cell_type": "code",
   "execution_count": 43,
   "metadata": {},
   "outputs": [],
   "source": [
    "#fonction appliquant des pretransformation aux cathegories dimage recu et retournant la liste des images retransforme en Tensor\n",
    "\n",
    "preprocessing = transforms.Compose([\n",
    "    transforms.ToTensor(),\n",
    "])\n",
    "# def get_input_tensor(labels,input_data):\n",
    "#     input_tensor_label = {}\n",
    "#     for label in labels:\n",
    "#         input_tensor_label[label] = []\n",
    "#         for input in input_data[label]:\n",
    "#             tensor = preprocessing(Image.fromarray(io.imread(input)))#io.imread(os.path.join(input)) )\n",
    "#             #tensor = preprocessing(cv2.imread(\"./\"+input))\n",
    "#             input_tensor_label[label].append(tensor)\n",
    "#     return input_tensor_label\n",
    "def get_input_tensor(input_data):\n",
    "    input_tensor_label = {}\n",
    "    input_tensor_label = []\n",
    "    for input in input_data:\n",
    "        tensor = preprocessing(Image.fromarray(io.imread(input)))#io.imread(os.path.join(input)) )\n",
    "            #tensor = preprocessing(cv2.imread(\"./\"+input))\n",
    "        input_tensor_label.append(tensor)\n",
    "    return input_tensor_label"
   ]
  },
  {
   "cell_type": "code",
   "execution_count": 26,
   "metadata": {},
   "outputs": [
    {
     "ename": "KeyboardInterrupt",
     "evalue": "",
     "output_type": "error",
     "traceback": [
      "\u001b[1;31m---------------------------------------------------------------------------\u001b[0m",
      "\u001b[1;31mKeyboardInterrupt\u001b[0m                         Traceback (most recent call last)",
      "\u001b[1;32md:\\POLYM1\\TrimestreHiver2023\\INF6804\\INF6804\\TP2\\tp2.ipynb Cellule 8\u001b[0m in \u001b[0;36m<cell line: 1>\u001b[1;34m()\u001b[0m\n\u001b[1;32m----> <a href='vscode-notebook-cell:/d%3A/POLYM1/TrimestreHiver2023/INF6804/INF6804/TP2/tp2.ipynb#X40sZmlsZQ%3D%3D?line=0'>1</a>\u001b[0m input_tensor_label\u001b[39m=\u001b[39mget_input_tensor(labels)\n",
      "\u001b[1;32md:\\POLYM1\\TrimestreHiver2023\\INF6804\\INF6804\\TP2\\tp2.ipynb Cellule 8\u001b[0m in \u001b[0;36mget_input_tensor\u001b[1;34m(labels)\u001b[0m\n\u001b[0;32m     <a href='vscode-notebook-cell:/d%3A/POLYM1/TrimestreHiver2023/INF6804/INF6804/TP2/tp2.ipynb#X40sZmlsZQ%3D%3D?line=11'>12</a>\u001b[0m input_tensor_label[label] \u001b[39m=\u001b[39m []\n\u001b[0;32m     <a href='vscode-notebook-cell:/d%3A/POLYM1/TrimestreHiver2023/INF6804/INF6804/TP2/tp2.ipynb#X40sZmlsZQ%3D%3D?line=12'>13</a>\u001b[0m \u001b[39mfor\u001b[39;00m \u001b[39minput\u001b[39m \u001b[39min\u001b[39;00m input_data[label]:\n\u001b[1;32m---> <a href='vscode-notebook-cell:/d%3A/POLYM1/TrimestreHiver2023/INF6804/INF6804/TP2/tp2.ipynb#X40sZmlsZQ%3D%3D?line=13'>14</a>\u001b[0m     tensor \u001b[39m=\u001b[39m preprocessing(Image\u001b[39m.\u001b[39mfromarray(io\u001b[39m.\u001b[39;49mimread(\u001b[39minput\u001b[39;49m)))\u001b[39m#io.imread(os.path.join(input)) )\u001b[39;00m\n\u001b[0;32m     <a href='vscode-notebook-cell:/d%3A/POLYM1/TrimestreHiver2023/INF6804/INF6804/TP2/tp2.ipynb#X40sZmlsZQ%3D%3D?line=14'>15</a>\u001b[0m     \u001b[39m#tensor = preprocessing(cv2.imread(\"./\"+input))\u001b[39;00m\n\u001b[0;32m     <a href='vscode-notebook-cell:/d%3A/POLYM1/TrimestreHiver2023/INF6804/INF6804/TP2/tp2.ipynb#X40sZmlsZQ%3D%3D?line=15'>16</a>\u001b[0m     input_tensor_label[label]\u001b[39m.\u001b[39mappend(tensor)\n",
      "File \u001b[1;32mc:\\Users\\pierr\\AppData\\Local\\Programs\\Python\\Python310\\lib\\site-packages\\skimage\\io\\_io.py:53\u001b[0m, in \u001b[0;36mimread\u001b[1;34m(fname, as_gray, plugin, **plugin_args)\u001b[0m\n\u001b[0;32m     50\u001b[0m         plugin \u001b[39m=\u001b[39m \u001b[39m'\u001b[39m\u001b[39mtifffile\u001b[39m\u001b[39m'\u001b[39m\n\u001b[0;32m     52\u001b[0m \u001b[39mwith\u001b[39;00m file_or_url_context(fname) \u001b[39mas\u001b[39;00m fname:\n\u001b[1;32m---> 53\u001b[0m     img \u001b[39m=\u001b[39m call_plugin(\u001b[39m'\u001b[39m\u001b[39mimread\u001b[39m\u001b[39m'\u001b[39m, fname, plugin\u001b[39m=\u001b[39mplugin, \u001b[39m*\u001b[39m\u001b[39m*\u001b[39mplugin_args)\n\u001b[0;32m     55\u001b[0m \u001b[39mif\u001b[39;00m \u001b[39mnot\u001b[39;00m \u001b[39mhasattr\u001b[39m(img, \u001b[39m'\u001b[39m\u001b[39mndim\u001b[39m\u001b[39m'\u001b[39m):\n\u001b[0;32m     56\u001b[0m     \u001b[39mreturn\u001b[39;00m img\n",
      "File \u001b[1;32mc:\\Users\\pierr\\AppData\\Local\\Programs\\Python\\Python310\\lib\\site-packages\\skimage\\io\\manage_plugins.py:207\u001b[0m, in \u001b[0;36mcall_plugin\u001b[1;34m(kind, *args, **kwargs)\u001b[0m\n\u001b[0;32m    203\u001b[0m     \u001b[39mexcept\u001b[39;00m \u001b[39mIndexError\u001b[39;00m:\n\u001b[0;32m    204\u001b[0m         \u001b[39mraise\u001b[39;00m \u001b[39mRuntimeError\u001b[39;00m(\u001b[39m'\u001b[39m\u001b[39mCould not find the plugin \u001b[39m\u001b[39m\"\u001b[39m\u001b[39m%s\u001b[39;00m\u001b[39m\"\u001b[39m\u001b[39m for \u001b[39m\u001b[39m%s\u001b[39;00m\u001b[39m.\u001b[39m\u001b[39m'\u001b[39m \u001b[39m%\u001b[39m\n\u001b[0;32m    205\u001b[0m                            (plugin, kind))\n\u001b[1;32m--> 207\u001b[0m \u001b[39mreturn\u001b[39;00m func(\u001b[39m*\u001b[39margs, \u001b[39m*\u001b[39m\u001b[39m*\u001b[39mkwargs)\n",
      "File \u001b[1;32mc:\\Users\\pierr\\AppData\\Local\\Programs\\Python\\Python310\\lib\\site-packages\\skimage\\io\\_plugins\\imageio_plugin.py:10\u001b[0m, in \u001b[0;36mimread\u001b[1;34m(*args, **kwargs)\u001b[0m\n\u001b[0;32m      8\u001b[0m \u001b[39m@wraps\u001b[39m(imageio_imread)\n\u001b[0;32m      9\u001b[0m \u001b[39mdef\u001b[39;00m \u001b[39mimread\u001b[39m(\u001b[39m*\u001b[39margs, \u001b[39m*\u001b[39m\u001b[39m*\u001b[39mkwargs):\n\u001b[1;32m---> 10\u001b[0m     \u001b[39mreturn\u001b[39;00m np\u001b[39m.\u001b[39masarray(imageio_imread(\u001b[39m*\u001b[39margs, \u001b[39m*\u001b[39m\u001b[39m*\u001b[39mkwargs))\n",
      "File \u001b[1;32mc:\\Users\\pierr\\AppData\\Local\\Programs\\Python\\Python310\\lib\\site-packages\\imageio\\__init__.py:86\u001b[0m, in \u001b[0;36mimread\u001b[1;34m(uri, format, **kwargs)\u001b[0m\n\u001b[0;32m     65\u001b[0m \u001b[39mdef\u001b[39;00m \u001b[39mimread\u001b[39m(uri, \u001b[39mformat\u001b[39m\u001b[39m=\u001b[39m\u001b[39mNone\u001b[39;00m, \u001b[39m*\u001b[39m\u001b[39m*\u001b[39mkwargs):\n\u001b[0;32m     66\u001b[0m     \u001b[39m\"\"\"imread(uri, format=None, **kwargs)\u001b[39;00m\n\u001b[0;32m     67\u001b[0m \n\u001b[0;32m     68\u001b[0m \u001b[39m    Reads an image from the specified file. Returns a numpy array, which\u001b[39;00m\n\u001b[1;32m   (...)\u001b[0m\n\u001b[0;32m     84\u001b[0m \u001b[39m        to see what arguments are available for a particular format.\u001b[39;00m\n\u001b[0;32m     85\u001b[0m \u001b[39m    \"\"\"\u001b[39;00m\n\u001b[1;32m---> 86\u001b[0m     \u001b[39mreturn\u001b[39;00m imread_v2(uri, \u001b[39mformat\u001b[39m\u001b[39m=\u001b[39m\u001b[39mformat\u001b[39m, \u001b[39m*\u001b[39m\u001b[39m*\u001b[39mkwargs)\n",
      "File \u001b[1;32mc:\\Users\\pierr\\AppData\\Local\\Programs\\Python\\Python310\\lib\\site-packages\\imageio\\v2.py:159\u001b[0m, in \u001b[0;36mimread\u001b[1;34m(uri, format, **kwargs)\u001b[0m\n\u001b[0;32m    154\u001b[0m \u001b[39mif\u001b[39;00m \u001b[39m\"\u001b[39m\u001b[39mmode\u001b[39m\u001b[39m\"\u001b[39m \u001b[39min\u001b[39;00m kwargs:\n\u001b[0;32m    155\u001b[0m     \u001b[39mraise\u001b[39;00m \u001b[39mTypeError\u001b[39;00m(\n\u001b[0;32m    156\u001b[0m         \u001b[39m'\u001b[39m\u001b[39mInvalid keyword argument \u001b[39m\u001b[39m\"\u001b[39m\u001b[39mmode\u001b[39m\u001b[39m\"\u001b[39m\u001b[39m, \u001b[39m\u001b[39m'\u001b[39m \u001b[39m'\u001b[39m\u001b[39mperhaps you mean \u001b[39m\u001b[39m\"\u001b[39m\u001b[39mpilmode\u001b[39m\u001b[39m\"\u001b[39m\u001b[39m?\u001b[39m\u001b[39m'\u001b[39m\n\u001b[0;32m    157\u001b[0m     )\n\u001b[1;32m--> 159\u001b[0m \u001b[39mwith\u001b[39;00m imopen(uri, \u001b[39m\"\u001b[39;49m\u001b[39mri\u001b[39;49m\u001b[39m\"\u001b[39;49m, plugin\u001b[39m=\u001b[39;49m\u001b[39mformat\u001b[39;49m) \u001b[39mas\u001b[39;00m file:\n\u001b[0;32m    160\u001b[0m     \u001b[39mreturn\u001b[39;00m file\u001b[39m.\u001b[39mread(index\u001b[39m=\u001b[39m\u001b[39m0\u001b[39m, \u001b[39m*\u001b[39m\u001b[39m*\u001b[39mkwargs)\n",
      "File \u001b[1;32mc:\\Users\\pierr\\AppData\\Local\\Programs\\Python\\Python310\\lib\\site-packages\\imageio\\core\\imopen.py:254\u001b[0m, in \u001b[0;36mimopen\u001b[1;34m(uri, io_mode, plugin, format_hint, legacy_mode, **kwargs)\u001b[0m\n\u001b[0;32m    251\u001b[0m     \u001b[39mcontinue\u001b[39;00m\n\u001b[0;32m    253\u001b[0m \u001b[39mtry\u001b[39;00m:\n\u001b[1;32m--> 254\u001b[0m     plugin_instance \u001b[39m=\u001b[39m candidate_plugin(request, \u001b[39m*\u001b[39m\u001b[39m*\u001b[39mkwargs)\n\u001b[0;32m    255\u001b[0m \u001b[39mexcept\u001b[39;00m InitializationError:\n\u001b[0;32m    256\u001b[0m     \u001b[39m# file extension doesn't match file type\u001b[39;00m\n\u001b[0;32m    257\u001b[0m     \u001b[39mcontinue\u001b[39;00m\n",
      "File \u001b[1;32mc:\\Users\\pierr\\AppData\\Local\\Programs\\Python\\Python310\\lib\\site-packages\\imageio\\config\\plugins.py:108\u001b[0m, in \u001b[0;36mPluginConfig.plugin_class.<locals>.partial_legacy_plugin\u001b[1;34m(request)\u001b[0m\n\u001b[0;32m    107\u001b[0m \u001b[39mdef\u001b[39;00m \u001b[39mpartial_legacy_plugin\u001b[39m(request):\n\u001b[1;32m--> 108\u001b[0m     \u001b[39mreturn\u001b[39;00m LegacyPlugin(request, legacy_plugin)\n",
      "File \u001b[1;32mc:\\Users\\pierr\\AppData\\Local\\Programs\\Python\\Python310\\lib\\site-packages\\imageio\\core\\legacy_plugin_wrapper.py:68\u001b[0m, in \u001b[0;36mLegacyPlugin.__init__\u001b[1;34m(self, request, legacy_plugin)\u001b[0m\n\u001b[0;32m     62\u001b[0m source \u001b[39m=\u001b[39m (\n\u001b[0;32m     63\u001b[0m     \u001b[39m\"\u001b[39m\u001b[39m<bytes>\u001b[39m\u001b[39m\"\u001b[39m\n\u001b[0;32m     64\u001b[0m     \u001b[39mif\u001b[39;00m \u001b[39misinstance\u001b[39m(\u001b[39mself\u001b[39m\u001b[39m.\u001b[39m_request\u001b[39m.\u001b[39mraw_uri, \u001b[39mbytes\u001b[39m)\n\u001b[0;32m     65\u001b[0m     \u001b[39melse\u001b[39;00m \u001b[39mself\u001b[39m\u001b[39m.\u001b[39m_request\u001b[39m.\u001b[39mraw_uri\n\u001b[0;32m     66\u001b[0m )\n\u001b[0;32m     67\u001b[0m \u001b[39mif\u001b[39;00m \u001b[39mself\u001b[39m\u001b[39m.\u001b[39m_request\u001b[39m.\u001b[39mmode\u001b[39m.\u001b[39mio_mode \u001b[39m==\u001b[39m IOMode\u001b[39m.\u001b[39mread:\n\u001b[1;32m---> 68\u001b[0m     \u001b[39mif\u001b[39;00m \u001b[39mnot\u001b[39;00m \u001b[39mself\u001b[39;49m\u001b[39m.\u001b[39;49m_format\u001b[39m.\u001b[39;49mcan_read(request):\n\u001b[0;32m     69\u001b[0m         \u001b[39mraise\u001b[39;00m InitializationError(\n\u001b[0;32m     70\u001b[0m             \u001b[39mf\u001b[39m\u001b[39m\"\u001b[39m\u001b[39m`\u001b[39m\u001b[39m{\u001b[39;00m\u001b[39mself\u001b[39m\u001b[39m.\u001b[39m_format\u001b[39m.\u001b[39mname\u001b[39m}\u001b[39;00m\u001b[39m`\u001b[39m\u001b[39m\"\u001b[39m \u001b[39mf\u001b[39m\u001b[39m\"\u001b[39m\u001b[39m can not read `\u001b[39m\u001b[39m{\u001b[39;00msource\u001b[39m}\u001b[39;00m\u001b[39m`.\u001b[39m\u001b[39m\"\u001b[39m\n\u001b[0;32m     71\u001b[0m         )\n\u001b[0;32m     72\u001b[0m \u001b[39melse\u001b[39;00m:\n",
      "File \u001b[1;32mc:\\Users\\pierr\\AppData\\Local\\Programs\\Python\\Python310\\lib\\site-packages\\imageio\\core\\format.py:211\u001b[0m, in \u001b[0;36mFormat.can_read\u001b[1;34m(self, request)\u001b[0m\n\u001b[0;32m    206\u001b[0m \u001b[39mdef\u001b[39;00m \u001b[39mcan_read\u001b[39m(\u001b[39mself\u001b[39m, request):\n\u001b[0;32m    207\u001b[0m     \u001b[39m\"\"\"can_read(request)\u001b[39;00m\n\u001b[0;32m    208\u001b[0m \n\u001b[0;32m    209\u001b[0m \u001b[39m    Get whether this format can read data from the specified uri.\u001b[39;00m\n\u001b[0;32m    210\u001b[0m \u001b[39m    \"\"\"\u001b[39;00m\n\u001b[1;32m--> 211\u001b[0m     \u001b[39mreturn\u001b[39;00m \u001b[39mself\u001b[39;49m\u001b[39m.\u001b[39;49m_can_read(request)\n",
      "File \u001b[1;32mc:\\Users\\pierr\\AppData\\Local\\Programs\\Python\\Python310\\lib\\site-packages\\imageio\\plugins\\pillow_legacy.py:269\u001b[0m, in \u001b[0;36mPillowFormat._can_read\u001b[1;34m(self, request)\u001b[0m\n\u001b[0;32m    267\u001b[0m factory, accept \u001b[39m=\u001b[39m Image\u001b[39m.\u001b[39mOPEN[\u001b[39mself\u001b[39m\u001b[39m.\u001b[39mplugin_id]\n\u001b[0;32m    268\u001b[0m \u001b[39mif\u001b[39;00m accept:\n\u001b[1;32m--> 269\u001b[0m     \u001b[39mif\u001b[39;00m request\u001b[39m.\u001b[39;49mfirstbytes \u001b[39mand\u001b[39;00m accept(request\u001b[39m.\u001b[39mfirstbytes):\n\u001b[0;32m    270\u001b[0m         \u001b[39mreturn\u001b[39;00m \u001b[39mTrue\u001b[39;00m\n",
      "File \u001b[1;32mc:\\Users\\pierr\\AppData\\Local\\Programs\\Python\\Python310\\lib\\site-packages\\imageio\\core\\request.py:586\u001b[0m, in \u001b[0;36mRequest.firstbytes\u001b[1;34m(self)\u001b[0m\n\u001b[0;32m    582\u001b[0m \u001b[39m\"\"\"The first 256 bytes of the file. These can be used to\u001b[39;00m\n\u001b[0;32m    583\u001b[0m \u001b[39mparse the header to determine the file-format.\u001b[39;00m\n\u001b[0;32m    584\u001b[0m \u001b[39m\"\"\"\u001b[39;00m\n\u001b[0;32m    585\u001b[0m \u001b[39mif\u001b[39;00m \u001b[39mself\u001b[39m\u001b[39m.\u001b[39m_firstbytes \u001b[39mis\u001b[39;00m \u001b[39mNone\u001b[39;00m:\n\u001b[1;32m--> 586\u001b[0m     \u001b[39mself\u001b[39;49m\u001b[39m.\u001b[39;49m_read_first_bytes()\n\u001b[0;32m    587\u001b[0m \u001b[39mreturn\u001b[39;00m \u001b[39mself\u001b[39m\u001b[39m.\u001b[39m_firstbytes\n",
      "File \u001b[1;32mc:\\Users\\pierr\\AppData\\Local\\Programs\\Python\\Python310\\lib\\site-packages\\imageio\\core\\request.py:606\u001b[0m, in \u001b[0;36mRequest._read_first_bytes\u001b[1;34m(self, N)\u001b[0m\n\u001b[0;32m    604\u001b[0m     i \u001b[39m=\u001b[39m \u001b[39mNone\u001b[39;00m\n\u001b[0;32m    605\u001b[0m \u001b[39m# Read\u001b[39;00m\n\u001b[1;32m--> 606\u001b[0m \u001b[39mself\u001b[39m\u001b[39m.\u001b[39m_firstbytes \u001b[39m=\u001b[39m read_n_bytes(f, N)\n\u001b[0;32m    607\u001b[0m \u001b[39m# Set back\u001b[39;00m\n\u001b[0;32m    608\u001b[0m \u001b[39mtry\u001b[39;00m:\n",
      "File \u001b[1;32mc:\\Users\\pierr\\AppData\\Local\\Programs\\Python\\Python310\\lib\\site-packages\\imageio\\core\\request.py:628\u001b[0m, in \u001b[0;36mread_n_bytes\u001b[1;34m(f, N)\u001b[0m\n\u001b[0;32m    626\u001b[0m bb \u001b[39m=\u001b[39m \u001b[39mbytes\u001b[39m()\n\u001b[0;32m    627\u001b[0m \u001b[39mwhile\u001b[39;00m \u001b[39mlen\u001b[39m(bb) \u001b[39m<\u001b[39m N:\n\u001b[1;32m--> 628\u001b[0m     extra_bytes \u001b[39m=\u001b[39m f\u001b[39m.\u001b[39;49mread(N \u001b[39m-\u001b[39;49m \u001b[39mlen\u001b[39;49m(bb))\n\u001b[0;32m    629\u001b[0m     \u001b[39mif\u001b[39;00m \u001b[39mnot\u001b[39;00m extra_bytes:\n\u001b[0;32m    630\u001b[0m         \u001b[39mbreak\u001b[39;00m\n",
      "\u001b[1;31mKeyboardInterrupt\u001b[0m: "
     ]
    }
   ],
   "source": [
    "input_tensor_label=get_input_tensor(labels,input_data)"
   ]
  },
  {
   "cell_type": "code",
   "execution_count": 45,
   "metadata": {},
   "outputs": [],
   "source": [
    "# return images in batch for prediction analysist\n",
    "#def stack_input_tensor(labels,input_tensor_label):\n",
    "    #input_batch_tensor_label = {}\n",
    "    #for label in labels:\n",
    "        #input_batch_tensor_label[label] =[]\n",
    "        #for tensor in input_tensor_label[label]:\n",
    "        #input_batch_tensor_label[label]=torch.stack(input_tensor_label[label], 0)\n",
    "        #input_batch_tensor_label=torch.stack(input_tensor_label, 0)\n",
    "        #input_batch_tensor_label[label] = input_batch_tensor_label[label].cuda() \n",
    "    #return input_batch_tensor_label\n",
    "\n",
    "def stack_input_tensor(input_tensor_label):\n",
    "    input_batch_tensor_label=torch.stack(input_tensor_label, 0)\n",
    "    return input_batch_tensor_label\n"
   ]
  },
  {
   "cell_type": "code",
   "execution_count": 47,
   "metadata": {},
   "outputs": [],
   "source": [
    "def evaluate(input_batch_tensor_label):\n",
    "    model = models.segmentation.deeplabv3_resnet101(pretrained=True).eval()\n",
    "    predictions = {}\n",
    "    with torch.no_grad():\n",
    "        predictions = model(input_batch_tensor_label)\n",
    "    return predictions"
   ]
  },
  {
   "cell_type": "code",
   "execution_count": 78,
   "metadata": {},
   "outputs": [],
   "source": [
    "def draw_segmentation_mask(image):\n",
    "  name_colors=list(mcolors.CSS4_COLORS.keys())[7:7+2]\n",
    "  rgb_colors=np.array([(np.array(mcolors.to_rgb(i))*255).astype(\"uint8\") for i in name_colors])\n",
    "  image.putpalette(rgb_colors)\n",
    "  return image"
   ]
  },
  {
   "attachments": {},
   "cell_type": "markdown",
   "metadata": {},
   "source": [
    "## Fonction Main de lexecution pour obtenir la segmentation sementique"
   ]
  },
  {
   "cell_type": "code",
   "execution_count": 82,
   "metadata": {},
   "outputs": [
    {
     "name": "stdout",
     "output_type": "stream",
     "text": [
      "initialising dataset:  ['highway']  with batchSize =  4\n",
      "current label : highway\n",
      "are now at 250\n",
      "are now at 500\n",
      "are now at 750\n",
      "are now at 1000\n",
      "are now at 1250\n",
      "are now at 1500\n"
     ]
    }
   ],
   "source": [
    "labels = [\"highway\"]# \"office\", \"pedestrians\", \"PETS2006\"]\n",
    "batchSize = 4\n",
    "print(\"initialising dataset: \",labels,\" with batchSize = \",batchSize)\n",
    "nb_image, input_data, true_data = init_dataset(labels)\n",
    "mini_input_data={}\n",
    "for label in labels:\n",
    "    print(\"current label :\",label)\n",
    "    current = 0\n",
    "    anounce_ID =250\n",
    "    while(current < nb_image[label]):\n",
    "        if current > anounce_ID:\n",
    "            print(\"are now at\", anounce_ID)\n",
    "            anounce_ID +=250\n",
    "        if (current+batchSize) > nb_image[label]:\n",
    "            mini_input_data[label]=input_data[label][current:-1]\n",
    "            current = nb_image[label]\n",
    "        else:\n",
    "            mini_input_data[label]=input_data[label][current:(current+batchSize)]\n",
    "            current += batchSize\n",
    "\n",
    "        input_tensor_label = get_input_tensor(mini_input_data[label])\n",
    "        input_batch_tensor_label = stack_input_tensor(input_tensor_label)\n",
    "        predictions = evaluate(input_batch_tensor_label)\n",
    "        for i in range(len(mini_input_data[label])):\n",
    "            prediction = torch.argmax(predictions['out'][i].squeeze(), dim=0).detach().cpu().numpy().astype(np.uint8)\n",
    "            masks = Image.fromarray(prediction)\n",
    "            segmentation_mask=draw_segmentation_mask(masks)\n",
    "            segmentation_mask.save(mini_input_data[label][i].replace(\"input\",\"output_sem_seg\"),format=\"PNG\")\n",
    "\n"
   ]
  }
 ],
 "metadata": {
  "kernelspec": {
   "display_name": "Python 3",
   "language": "python",
   "name": "python3"
  },
  "language_info": {
   "codemirror_mode": {
    "name": "ipython",
    "version": 3
   },
   "file_extension": ".py",
   "mimetype": "text/x-python",
   "name": "python",
   "nbconvert_exporter": "python",
   "pygments_lexer": "ipython3",
   "version": "3.10.2"
  },
  "orig_nbformat": 4,
  "vscode": {
   "interpreter": {
    "hash": "26de051ba29f2982a8de78e945f0abaf191376122a1563185a90213a26c5da77"
   }
  }
 },
 "nbformat": 4,
 "nbformat_minor": 2
}
