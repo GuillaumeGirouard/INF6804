{
 "cells": [
  {
   "cell_type": "code",
   "execution_count": 2,
   "metadata": {},
   "outputs": [
    {
     "name": "stdout",
     "output_type": "stream",
     "text": [
      "^C\n",
      "Note: you may need to restart the kernel to use updated packages.\n",
      "Collecting torchvision\n",
      "  Using cached torchvision-0.14.1-cp310-cp310-win_amd64.whl (1.1 MB)\n",
      "Requirement already satisfied: torch==1.13.1 in c:\\users\\ggiro\\appdata\\local\\programs\\python\\python310\\lib\\site-packages (from torchvision) (1.13.1)\n",
      "Requirement already satisfied: pillow!=8.3.*,>=5.3.0 in c:\\users\\ggiro\\appdata\\local\\programs\\python\\python310\\lib\\site-packages (from torchvision) (9.0.1)\n",
      "Requirement already satisfied: typing-extensions in c:\\users\\ggiro\\appdata\\local\\programs\\python\\python310\\lib\\site-packages (from torchvision) (4.5.0)\n",
      "Requirement already satisfied: numpy in c:\\users\\ggiro\\appdata\\local\\programs\\python\\python310\\lib\\site-packages (from torchvision) (1.24.2)\n",
      "Requirement already satisfied: requests in c:\\users\\ggiro\\appdata\\local\\programs\\python\\python310\\lib\\site-packages (from torchvision) (2.27.1)\n",
      "Requirement already satisfied: charset-normalizer~=2.0.0 in c:\\users\\ggiro\\appdata\\local\\programs\\python\\python310\\lib\\site-packages (from requests->torchvision) (2.0.12)\n",
      "Requirement already satisfied: certifi>=2017.4.17 in c:\\users\\ggiro\\appdata\\local\\programs\\python\\python310\\lib\\site-packages (from requests->torchvision) (2021.10.8)\n",
      "Requirement already satisfied: urllib3<1.27,>=1.21.1 in c:\\users\\ggiro\\appdata\\local\\programs\\python\\python310\\lib\\site-packages (from requests->torchvision) (1.26.9)\n",
      "Requirement already satisfied: idna<4,>=2.5 in c:\\users\\ggiro\\appdata\\local\\programs\\python\\python310\\lib\\site-packages (from requests->torchvision) (3.3)\n",
      "Installing collected packages: torchvision\n",
      "Successfully installed torchvision-0.14.1\n",
      "Note: you may need to restart the kernel to use updated packages.\n"
     ]
    },
    {
     "name": "stderr",
     "output_type": "stream",
     "text": [
      "WARNING: You are using pip version 22.0.4; however, version 23.0.1 is available.\n",
      "You should consider upgrading via the 'c:\\Users\\ggiro\\AppData\\Local\\Programs\\Python\\Python310\\python.exe -m pip install --upgrade pip' command.\n"
     ]
    },
    {
     "name": "stdout",
     "output_type": "stream",
     "text": [
      "Collecting torch\n",
      "  Downloading torch-1.13.1-cp310-cp310-win_amd64.whl (162.6 MB)\n",
      "     -------------------------------------- 162.6/162.6 MB 9.8 MB/s eta 0:00:00\n",
      "Collecting typing-extensions\n",
      "  Using cached typing_extensions-4.5.0-py3-none-any.whl (27 kB)\n",
      "Installing collected packages: typing-extensions, torch\n",
      "Successfully installed torch-1.13.1 typing-extensions-4.5.0\n"
     ]
    },
    {
     "name": "stderr",
     "output_type": "stream",
     "text": [
      "WARNING: You are using pip version 22.0.4; however, version 23.0.1 is available.\n",
      "You should consider upgrading via the 'c:\\Users\\ggiro\\AppData\\Local\\Programs\\Python\\Python310\\python.exe -m pip install --upgrade pip' command.\n"
     ]
    }
   ],
   "source": [
    "\n",
    "%pip install torch\n",
    "%pip install torchvision"
   ]
  },
  {
   "cell_type": "code",
   "execution_count": 1,
   "metadata": {},
   "outputs": [
    {
     "name": "stdout",
     "output_type": "stream",
     "text": [
      "^C\n",
      "Note: you may need to restart the kernel to use updated packages.\n"
     ]
    },
    {
     "name": "stdout",
     "output_type": "stream",
     "text": [
      "Requirement already satisfied: numpy in c:\\users\\ggiro\\appdata\\local\\programs\\python\\python310\\lib\\site-packages (1.22.3)\n",
      "Collecting numpy\n",
      "  Downloading numpy-1.24.2-cp310-cp310-win_amd64.whl (14.8 MB)\n",
      "     --------------------------------------- 14.8/14.8 MB 10.7 MB/s eta 0:00:00\n",
      "Installing collected packages: numpy\n",
      "  Attempting uninstall: numpy\n",
      "    Found existing installation: numpy 1.22.3\n",
      "    Uninstalling numpy-1.22.3:\n",
      "      Successfully uninstalled numpy-1.22.3\n",
      "Successfully installed numpy-1.24.2\n"
     ]
    },
    {
     "name": "stderr",
     "output_type": "stream",
     "text": [
      "WARNING: You are using pip version 22.0.4; however, version 23.0.1 is available.\n",
      "You should consider upgrading via the 'c:\\Users\\ggiro\\AppData\\Local\\Programs\\Python\\Python310\\python.exe -m pip install --upgrade pip' command.\n"
     ]
    }
   ],
   "source": [
    "%pip install --upgrade numpy"
   ]
  },
  {
   "cell_type": "code",
   "execution_count": 3,
   "metadata": {},
   "outputs": [],
   "source": [
    "\n",
    "import matplotlib.pyplot as plt\n",
    "import numpy as np\n",
    "from pathlib import Path\n",
    "\n",
    "from PIL import Image,ImageOps\n",
    "import matplotlib.colors as mcolors\n",
    "import matplotlib.pyplot as plt\n",
    "import numpy as np\n",
    "import torch\n",
    "import torchvision.transforms as transforms\n",
    "import torchvision.models as models\n",
    "from skimage import io\n",
    "import os\n",
    "import cv2"
   ]
  },
  {
   "cell_type": "code",
   "execution_count": 1,
   "metadata": {},
   "outputs": [],
   "source": [
    "pathToCategories = \"./baseline/baseline/\"\n",
    "def init_dataset(labels):\n",
    "    \"\"\"\n",
    "    fonction pour récupérer le chemin vers les données d'entrée et les données de validation de la segmentaiton (groundtruth)\n",
    "    Args:\n",
    "        labels: labels des vidéos dont on veut récupérer les données.\n",
    "    \"\"\"\n",
    "    input_data = {}\n",
    "    groundTruth_data = {}\n",
    "    nb_image = {}\n",
    "    i=0\n",
    "    for label in labels:\n",
    "        input_data[label] = [str(p) for p in Path(\n",
    "            pathToCategories+label+\"/input/\").glob('*.jpg')]\n",
    "        groundTruth_data[label] = [str(p) for p in Path(\n",
    "            pathToCategories+label+\"/groundtruth/\").glob('*.png')]\n",
    "        nb_image[label] = len(input_data[label])\n",
    "    return nb_image,input_data,groundTruth_data\n"
   ]
  },
  {
   "cell_type": "code",
   "execution_count": 50,
   "metadata": {},
   "outputs": [],
   "source": [
    "def output_dataset(labels):\n",
    "    \"\"\"\n",
    "    fonction pour récupérer le chemin vers les données obtenue en sortie des méthodes de segmentation implémentés\n",
    "    Args:\n",
    "        labels: labels des vidéos dont on veut récupérer les données.\n",
    "    \"\"\"\n",
    "    output_data_sem_seg = {}\n",
    "    output_data_vibe = {}\n",
    "    nb_image = {}\n",
    "    i=0\n",
    "    for label in labels:\n",
    "        output_data_sem_seg[label] = [str(p) for p in Path(\n",
    "            pathToCategories+label+\"/output_sem_seg/\").glob('*.jpg')]\n",
    "        output_data_vibe[label] = [str(p) for p in Path(\n",
    "            pathToCategories+label+\"/output_vibe/\").glob('*.jpg')]\n",
    "        #nb_image[label] = len(output_data_sem_seg[label])\n",
    "    return output_data_sem_seg,output_data_vibe"
   ]
  },
  {
   "cell_type": "code",
   "execution_count": 51,
   "metadata": {},
   "outputs": [],
   "source": [
    "labels=[\"highway\", \"office\", \"pedestrians\", \"PETS2006\"]\n",
    "output_data_sem_seg,output_data_vibe=output_dataset(labels)"
   ]
  },
  {
   "cell_type": "code",
   "execution_count": 52,
   "metadata": {},
   "outputs": [],
   "source": [
    "nb_image,input_data,groundTruth_data=init_dataset(labels)"
   ]
  },
  {
   "cell_type": "code",
   "execution_count": 7,
   "metadata": {},
   "outputs": [
    {
     "data": {
      "image/png": "[encoded data removed]",
      "text/plain": [
       "<Figure size 432x288 with 1 Axes>"
      ]
     },
     "metadata": {
      "needs_background": "light"
     },
     "output_type": "display_data"
    },
    {
     "data": {
      "image/png": "[encoded data removed]",
      "text/plain": [
       "<Figure size 432x288 with 1 Axes>"
      ]
     },
     "metadata": {
      "needs_background": "light"
     },
     "output_type": "display_data"
    },
    {
     "data": {
      "image/png": "[encoded data removed]",
      "text/plain": [
       "<Figure size 432x288 with 1 Axes>"
      ]
     },
     "metadata": {
      "needs_background": "light"
     },
     "output_type": "display_data"
    },
    {
     "name": "stdout",
     "output_type": "stream",
     "text": [
      "[  0 255]\n",
      "[  0 255]\n"
     ]
    },
    {
     "data": {
      "text/plain": [
       "(array([-255.,    0.,  255.]), array([  328, 86031,    41], dtype=int64))"
      ]
     },
     "execution_count": 7,
     "metadata": {},
     "output_type": "execute_result"
    }
   ],
   "source": [
    "im_out=io.imread(output_data_vibe[\"pedestrians\"][1010])\n",
    "im_out=io.imread(output_data_sem_seg[\"pedestrians\"][1010])\n",
    "im_out[im_out==188]=255\n",
    "grdtruth=io.imread(groundTruth_data[\"pedestrians\"][1010])\n",
    "#grdtruth[grdtruth>=170]=255\n",
    "grdtruth[grdtruth>=50]=255\n",
    "\n",
    "#sol pour plus de perf pour vibe\n",
    "#im_out=cv2.blur(im_out,(5,5))\n",
    "#im_out[im_out!=0]=255 -> seuil(ici =0) réglable\n",
    "\n",
    "#grdtruth[grdtruth<=170]=0\n",
    "#grdtruth[grdtruth<=50]=0\n",
    "plt.imshow(grdtruth,cmap=\"gray\")\n",
    "plt.show()\n",
    "plt.imshow(im_out,cmap=\"gray\")\n",
    "plt.show()\n",
    "plt.imshow(abs(im_out.astype(float)-grdtruth.astype(float)),cmap=\"gray\")\n",
    "plt.show()\n",
    "print(np.unique(grdtruth))\n",
    "print(np.unique(im_out))\n",
    "#print(np.unique(im_g-im_out,return_counts=True))\n",
    "np.unique(im_out.astype(float)-grdtruth.astype(float),return_counts=True)"
   ]
  },
  {
   "cell_type": "code",
   "execution_count": 99,
   "metadata": {},
   "outputs": [],
   "source": [
    "def PercentageCorrectClassification(img,groundtruth):\n",
    "    res=np.unique(img.astype(float)-groundtruth.astype(float),return_counts=True)\n",
    "    #FN=res[1][0]\n",
    "    #TPandTN=res[1][1]\n",
    "    #FP=res[1][2]\n",
    "    count={0:0,-1:0,254:0,-255:0}\n",
    "    for i in range(len(res[0])):\n",
    "        count[res[0][i]]=res[1][i]\n",
    "        FN=count[-255]\n",
    "        TN=count[-1]\n",
    "        TP=count[0]\n",
    "        FP=count[254]\n",
    "    PCC=(TP+TN)/(TP+TN+FP+FN)\n",
    "    return PCC"
   ]
  },
  {
   "cell_type": "code",
   "execution_count": 103,
   "metadata": {},
   "outputs": [
    {
     "data": {
      "text/plain": [
       "0.997464162478868"
      ]
     },
     "execution_count": 103,
     "metadata": {},
     "output_type": "execute_result"
    }
   ],
   "source": [
    "PercentageCorrectClassification(im_out,grdtruth)"
   ]
  },
  {
   "cell_type": "code",
   "execution_count": 71,
   "metadata": {},
   "outputs": [],
   "source": [
    "def classifactionMetrics(img,groundtruth):\n",
    "    groundtruth_c=np.copy(groundtruth)\n",
    "    groundtruth_c[groundtruth_c==0]=1 #pour pouvoir distinguer TN de TP\n",
    "    res=np.unique(img.astype(float)-groundtruth_c.astype(float),return_counts=True)\n",
    "    #FN=res[1][0]\n",
    "    #TN=res[1][1]\n",
    "    #TP=res[1][2]\n",
    "    #FP=res[1][3]\n",
    "    count={0:0,-1:0,254:0,-255:0}\n",
    "    for i in range(len(res[0])):\n",
    "        count[res[0][i]]=res[1][i]\n",
    "        FN=count[-255]\n",
    "        TN=count[-1]\n",
    "        TP=count[0]\n",
    "        FP=count[254]\n",
    "    print(FP)\n",
    "    precision=TP/(TP+FP)\n",
    "    recall=TP/(TP+FN)\n",
    "    f1_score=2*precision*recall/(precision+recall)\n",
    "    return precision,recall,f1_score"
   ]
  },
  {
   "cell_type": "code",
   "execution_count": 8,
   "metadata": {},
   "outputs": [],
   "source": [
    "def jaccardCoeff(img,groundtruth,positiveClass=\"foreground\"):\n",
    "    \"\"\"\n",
    "    fonction pour mesurer l'indice de Jaccard pour une segmenation donnée\n",
    "    Args:\n",
    "        img: image qui contient la segmentation dont on veut mesurer l'indice\n",
    "        groundtruth: solution de la segmentation\n",
    "        positiveClass: partie de la segmentation que l'on considère comme la calsse positive.\n",
    "        Par défaut, il s'agit du premier-plan (régions d'intérets).\n",
    "    \"\"\"\n",
    "    groundtruth_c=np.copy(groundtruth)\n",
    "    groundtruth_c[groundtruth_c==0]=1 #pour pouvoir distinguer TN de TP\n",
    "    res=np.unique(img.astype(float)-groundtruth_c.astype(float),return_counts=True)\n",
    "    count={0:0,-1:0,254:0,-255:0}\n",
    "    for i in range(len(res[0])):\n",
    "        count[res[0][i]]=res[1][i]\n",
    "        FN=count[-255]\n",
    "        TN=count[-1]\n",
    "        TP=count[0]\n",
    "        FP=count[254]\n",
    "    if positiveClass==\"foreground\":\n",
    "        if (TP+FP+FN)==0:\n",
    "            coeff=1\n",
    "        else:\n",
    "            coeff=TP/(TP+FP+FN)\n",
    "    else:\n",
    "        coeff=TN/(TN+FP+FN)\n",
    "    return coeff"
   ]
  },
  {
   "cell_type": "code",
   "execution_count": 117,
   "metadata": {},
   "outputs": [
    {
     "name": "stdout",
     "output_type": "stream",
     "text": [
      "659\n"
     ]
    },
    {
     "data": {
      "text/plain": [
       "(0.568717277486911, 0.9294117647058824, 0.7056435241575315)"
      ]
     },
     "execution_count": 117,
     "metadata": {},
     "output_type": "execute_result"
    }
   ],
   "source": [
    "classifactionMetrics(im_out,grdtruth)"
   ]
  },
  {
   "cell_type": "code",
   "execution_count": 136,
   "metadata": {},
   "outputs": [
    {
     "data": {
      "text/plain": [
       "0.8073107049608355"
      ]
     },
     "execution_count": 136,
     "metadata": {},
     "output_type": "execute_result"
    }
   ],
   "source": [
    "jaccardCoeff(im_out,grdtruth)"
   ]
  },
  {
   "attachments": {},
   "cell_type": "markdown",
   "metadata": {},
   "source": [
    "### Segmentation sémantique"
   ]
  },
  {
   "cell_type": "code",
   "execution_count": null,
   "metadata": {},
   "outputs": [],
   "source": [
    "#fonction appliquant du pre-traitement aux cathegories dimage recu et retournant la liste des images retransforme en Tensor\n",
    "\n",
    "preprocessing = transforms.Compose([\n",
    "    transforms.ToTensor(),\n",
    "])\n",
    "\n",
    "def get_input_tensor(input_data):\n",
    "    input_tensor_label = {}\n",
    "    input_tensor_label = []\n",
    "    for input in input_data:\n",
    "        tensor = preprocessing(Image.fromarray(io.imread(input)))\n",
    "        input_tensor_label.append(tensor)\n",
    "    return input_tensor_label"
   ]
  },
  {
   "cell_type": "code",
   "execution_count": null,
   "metadata": {},
   "outputs": [],
   "source": [
    "# retourne les images en batch empiler pour envoyer à l'analyse\n",
    "def stack_input_tensor(input_tensor_label):\n",
    "    input_batch_tensor_label=torch.stack(input_tensor_label, 0)\n",
    "    return input_batch_tensor_label\n"
   ]
  },
  {
   "cell_type": "code",
   "execution_count": null,
   "metadata": {},
   "outputs": [],
   "source": [
    "#applique l'analyse de la segmentation semantique avec le modele DeepLabV3 prenant comme squellette le reseau resnet101\n",
    "def evaluate(input_batch_tensor_label):\n",
    "    model = models.segmentation.deeplabv3_resnet101(pretrained=True).eval()\n",
    "    predictions = {}\n",
    "    with torch.no_grad():\n",
    "        predictions = model(input_batch_tensor_label)\n",
    "    return predictions"
   ]
  },
  {
   "cell_type": "code",
   "execution_count": null,
   "metadata": {},
   "outputs": [],
   "source": [
    "#fonction de coloration des regions dinteret apres la segmentation\n",
    "def draw_segmentation_mask(image,nb_class):\n",
    "  name_colors=list(mcolors.CSS4_COLORS.keys())[7+1:7+nb_class]\n",
    "  rgb_colors=np.array([(np.array(mcolors.to_rgb(i))*255).astype(\"uint8\") for i in name_colors])\n",
    "  COLORS = np.vstack([[0, 0, 0], rgb_colors]).astype(\"uint8\")\n",
    "  COLORS[15] = [255,255,255] #class pour lidentification de personnes\n",
    "  image.putpalette(COLORS)\n",
    "  return image"
   ]
  },
  {
   "attachments": {},
   "cell_type": "markdown",
   "metadata": {},
   "source": [
    "#### Fonction Main de lexecution pour obtenir la segmentation sementique"
   ]
  },
  {
   "cell_type": "code",
   "execution_count": null,
   "metadata": {},
   "outputs": [
    {
     "name": "stdout",
     "output_type": "stream",
     "text": [
      "initialising dataset:  ['highway']  with batchSize =  4\n",
      "current label : highway\n",
      "are now at 250\n",
      "are now at 500\n",
      "are now at 750\n",
      "are now at 1000\n",
      "are now at 1250\n",
      "are now at 1500\n"
     ]
    }
   ],
   "source": [
    "#fonction principale dacquisition des resultats pour la segmentation sementique, les resultats sont mis dans le dossier \"output_seg_sem\"\n",
    "labels = [\"highway\", \"office\", \"pedestrians\", \"PETS2006\"]\n",
    "batchSize = 4 #nombre d'images prises par batch d'analyse de segmentation\n",
    "print(\"initialising dataset: \",labels,\" with batchSize = \",batchSize)\n",
    "nb_image, input_data, true_data = init_dataset(labels) # recuperation du repertoire des data et du nombre dimage a traiter\n",
    "mini_input_data={}\n",
    "for label in labels:\n",
    "    print(\"current label :\",label)\n",
    "    current = 0 # position de limage se faisant traiter\n",
    "    anounce_ID =250 # donne un indice de progression a vhaque 250 images traitées\n",
    "    while(current < nb_image[label]):\n",
    "        if current > anounce_ID:\n",
    "            print(\"are now at\", anounce_ID)\n",
    "            anounce_ID +=250\n",
    "        if (current+batchSize) > nb_image[label]: #prend en consideration de sil reste moins de 4 images a traiter\n",
    "            mini_input_data[label]=input_data[label][current:-1]\n",
    "            current = nb_image[label]\n",
    "        else:\n",
    "            mini_input_data[label]=input_data[label][current:(current+batchSize)]\n",
    "            current += batchSize\n",
    "\n",
    "        input_tensor_label = get_input_tensor(mini_input_data[label]) #convertie les images en tensor\n",
    "        input_batch_tensor_label = stack_input_tensor(input_tensor_label) # empiles les images\n",
    "        predictions = evaluate(input_batch_tensor_label) # applique la prediction\n",
    "        nb_class = predictions['out'].shape[1]\n",
    "        for i in range(len(mini_input_data[label])):\n",
    "            prediction = torch.argmax(predictions['out'][i].squeeze(), dim=0).detach().cpu().numpy().astype(np.uint8)\n",
    "            masks = Image.fromarray(prediction)\n",
    "            segmentation_mask=draw_segmentation_mask(masks,nb_class) # dessine les regions dinteret\n",
    "            segmentation_mask = ImageOps.grayscale(segmentation_mask) # convertie la couleur des regions en grayscale\n",
    "            segmentation_mask.save(mini_input_data[label][i].replace(\"input\",\"output_sem_seg\"),format=\"PNG\") #enregistre limage\n",
    "\n",
    "\n"
   ]
  },
  {
   "attachments": {},
   "cell_type": "markdown",
   "metadata": {},
   "source": [
    "### Soustraction d'arrière-plan"
   ]
  },
  {
   "cell_type": "code",
   "execution_count": 9,
   "metadata": {},
   "outputs": [],
   "source": [
    "from random import randrange\n",
    "import random\n",
    "def initBackground(frame,nb_samples,gray_scale=False):\n",
    "    \"\"\"\n",
    "    Cette méthode permet d'initialiser le modèle de l'arrière plan pour la méthode ViBe.\n",
    "    Args:\n",
    "        frame: première frame, utilisé pour initialiser le modèle.\n",
    "        nb_samples: nombre d'échantillons pour une position dans le modèle \n",
    "        gray_scale: si les frames du jeux de données sont en niveau de gris\n",
    "    \"\"\"\n",
    "    frame_size=np.shape(frame)\n",
    "\n",
    "    if gray_scale:\n",
    "        #Si le jeux de données sont en niveau de gris \n",
    "        background=np.empty((frame_size[0],frame_size[1],nb_samples))    \n",
    "    else:\n",
    "        #Si le jeux de données sont RGB\n",
    "        background=np.empty((frame_size[0],frame_size[1],nb_samples,3))\n",
    "    \n",
    "    #Pour chaque position dans la frame: on pioche un voisin au hasard pour chaque échantillon du modèle d'arrière-plan\n",
    "    for i in range(frame_size[0]):\n",
    "        for j in range(frame_size[1]):\n",
    "            #Si la position n'est pas sur le coté bas ou droit de la frame\n",
    "            if i<frame_size[0]-1 and j<frame_size[1]-1:\n",
    "                #Si la position n'est pas sur le coté haut ou gauche de la frame\n",
    "                if i>=1 and j>=1:\n",
    "                    for k in range(nb_samples):\n",
    "                        i_n, j_n = random.choice([[i-1, j-1], [i-1, j], [i-1, j+1],\n",
    "                                                  [i, j-1],             [i, j+1],\n",
    "                                                  [i+1, j-1], [i+1, j], [i+1, j+1]])\n",
    "                        background[i,j,k]=frame[i_n,j_n]\n",
    "                #Si la position est sur le coté gauche de la frame       \n",
    "                elif i>=1:\n",
    "                    for k in range(nb_samples):\n",
    "                        i_n, j_n = random.choice([[i-1, j], [i-1, j+1],\n",
    "                                                            [i, j+1],\n",
    "                                                  [i+1, j], [i+1, j+1]])\n",
    "                        background[i,j,k]=frame[i_n,j_n]\n",
    "                #Si la position est sur le coté haut de la frame \n",
    "                elif j>=1:\n",
    "                    for k in range(nb_samples):\n",
    "                        i_n, j_n = random.choice([[i, j-1],             [i, j+1],\n",
    "                                                  [i+1, j-1], [i+1, j], [i+1, j+1]])\n",
    "                        background[i,j,k]=frame[i_n,j_n]\n",
    "                #Si la position est dans le coin supérieur gauche de la frame\n",
    "                else:\n",
    "                    for k in range(nb_samples):\n",
    "                        i_n, j_n = random.choice([          [i, j+1],\n",
    "                                                  [i+1, j], [i+1, j+1]])\n",
    "                        background[i,j,k]=frame[i_n,j_n]\n",
    "            #Si la position est sur le coté droit de la frame \n",
    "            elif i<frame_size[0]-1:\n",
    "                #Si la position n'est pas sur le coté haut de la frame \n",
    "                if i>=1:\n",
    "                    for k in range(nb_samples):\n",
    "                        i_n, j_n = random.choice([[i-1, j-1], [i-1, j],\n",
    "                                                  [i, j-1],\n",
    "                                                  [i+1, j-1], [i+1, j],])\n",
    "                        background[i,j,k]=frame[i_n,j_n]\n",
    "                #Si la position est sur le coin supérieur droit de la frame \n",
    "                else:\n",
    "                    for k in range(nb_samples):\n",
    "                        i_n, j_n = random.choice([[i, j-1], \n",
    "                                                  [i+1, j-1], [i+1, j]])\n",
    "                        background[i,j,k]=frame[i_n,j_n]\n",
    "            #Si la position est sur le coté bas de la frame \n",
    "            elif j<frame_size[1]-1:\n",
    "                #Si la position n'est pas sur le coté gauche de la frame \n",
    "                if j>=1:\n",
    "                    for k in range(nb_samples):\n",
    "                        i_n, j_n = random.choice([[i-1, j-1], [i-1, j], [i-1, j+1],\n",
    "                                                  [i, j-1],             [i, j+1]])\n",
    "                        background[i,j,k]=frame[i_n,j_n]\n",
    "                #Si la position est sur le coin inférieur gauche de la frame \n",
    "                else:\n",
    "                    for k in range(nb_samples):\n",
    "                        i_n, j_n = random.choice([[i-1, j], [i-1, j+1],\n",
    "                                                            [i, j+1]])\n",
    "                        background[i,j,k]=frame[i_n,j_n]\n",
    "            else:\n",
    "                #Si la position est sur le coin inférieur droit de la frame \n",
    "                for k in range(nb_samples):\n",
    "                    i_n, j_n = random.choice([[i-1, j-1], [i-1, j],\n",
    "                                              [i, j-1]             ])\n",
    "                    background[i,j,k]=frame[i_n,j_n]\n",
    "\n",
    "    return background      \n",
    "\n",
    "\n"
   ]
  },
  {
   "cell_type": "code",
   "execution_count": 6,
   "metadata": {},
   "outputs": [],
   "source": [
    "labels=[\"highway\", \"office\", \"pedestrians\", \"PETS2006\"]\n",
    "nb_images,input_data,groundTruth_data=init_dataset(labels)"
   ]
  },
  {
   "cell_type": "code",
   "execution_count": 10,
   "metadata": {},
   "outputs": [],
   "source": [
    "def segmentationViBe4(frame,background_model,R,seuil,nb_samples,random_subsampling):\n",
    "    \"\"\"\n",
    "    Cette méthode permet d'appliquer une segmentation binaire par la méthod ViBe de la frame passé en argument.\n",
    "    Args:\n",
    "        frame: frame dont on veut connaitre la segmentation.\n",
    "        background_model: modèle d'arrière plan\n",
    "        R: rayon de la sphère pour déterminer la proximité d'un pixel avec les échantillons du modèle\n",
    "        seuil: nombre d'échantillon à l'intérieur de la sphère à partit duquel on considère que le pixel\n",
    "               (le centre de la sphère) appartient à l'arrière plan \n",
    "        nb_samples: nombre d'échantillons pour une position dans le modèle \n",
    "        random_subsampling: la probilité que le modèle, à une position donnée, soit mis à jour est de 1/random_subsampling\n",
    "    \"\"\"\n",
    "\n",
    "    frame_size=np.shape(frame)\n",
    "    res=np.empty((frame_size[0],frame_size[1]))\n",
    "    #R2=R**2\n",
    "\n",
    "    #Pour chaque position dans la frame\n",
    "    for i in range(frame_size[0]):\n",
    "        for j in range(frame_size[1]):\n",
    "            center=frame[i,j]#Le centre de la sphère est le pixel de la frame à la position courante (,j)\n",
    "            count=0\n",
    "            #Pour chaque échantillon dans le modèle d'arrière plan à la position (i,j)\n",
    "            for sample in background_model[i,j]:\n",
    "                dist_with_center=(np.linalg.norm(center-sample))\n",
    "                #Si la distance du centre à l'échantillon est inférieur au rayon de la sphère, on incrémente le compteur\n",
    "                if dist_with_center<R:\n",
    "                    count+=1\n",
    "                if count>=seuil:\n",
    "                    break\n",
    "            #Si le compteur est supérieur au seuil, on considère que le pixel appartient à l'arrière-plan\n",
    "            if count>=seuil:\n",
    "                res[i,j]=0\n",
    "            else:\n",
    "                res[i,j]=255\n",
    "\n",
    "            #Mise à jour du modèle d'arrière plan avec la probabilité 1/random_subsampling    \n",
    "            update = randrange(random_subsampling)\n",
    "            if update == 0:\n",
    "                #l'échantillon qui est mis à jour est tiré au sort\n",
    "                sample = randrange(nb_samples)\n",
    "                background_model[i, j, sample] = frame[i, j]\n",
    "\n",
    "            #Mise à jour du modèle de l'arrièe-plan pour une position voisine de la position actuelle \n",
    "            # avec la probabilité 1/random_subsampling     \n",
    "            update = randrange(random_subsampling)\n",
    "            if update == 0:\n",
    "                #L'échantillon qui sera mis à jour est tiré au sort\n",
    "                sample=randrange(nb_samples)   \n",
    "                if i < frame_size[0]-1 and j < frame_size[1]-1:\n",
    "                    if i >= 1 and j >= 1:\n",
    "                        i_n, j_n = random.choice([[i-1, j-1], [i-1, j], [i-1, j+1],\n",
    "                                                  [i, j-1],             [i, j+1],\n",
    "                                                  [i+1, j-1], [i+1, j], [i+1, j+1]])\n",
    "\n",
    "                    elif i >= 1:\n",
    "                        i_n, j_n = random.choice([[i-1, j], [i-1, j+1],\n",
    "                                                  [i, j+1],\n",
    "                                                  [i+1, j], [i+1, j+1]])\n",
    "\n",
    "                    elif j >= 1:\n",
    "                        #neighbours = frame[i:i+2, j-1:j+2]\n",
    "                        i_n, j_n = random.choice([[i, j-1], [i, j+1],\n",
    "                                                  [i+1, j-1], [i+1, j], [i+1, j+1]])\n",
    "\n",
    "                    else:\n",
    "                        #neighbours = frame[i:i+2, j:j+2]\n",
    "                        i_n, j_n = random.choice([            [i, j+1],\n",
    "                                                  [i+1, j], [i+1, j+1]])\n",
    "               \n",
    "                elif i < frame_size[0]-1:\n",
    "                    if i >= 1:\n",
    "                        #neighbours = frame[i-1:i+2, j-1:j+1]\n",
    "                        i_n, j_n = random.choice([[i-1, j-1], [i-1, j],\n",
    "                                                  [i, j-1],\n",
    "                                                  [i+1, j-1], [i+1, j]])\n",
    "                    \n",
    "                    else:\n",
    "                        #neighbours = frame[i:i+2, j-1:j+1]\n",
    "                        i_n, j_n = random.choice([[i, j-1],\n",
    "                                                  [i+1, j-1], [i+1, j]])\n",
    "                        \n",
    "                elif j < frame_size[1]-1:\n",
    "                    if j >= 1:\n",
    "                        #neighbours = frame[i-1:i+1, j-1:j+2]\n",
    "                        i_n, j_n = random.choice([[i-1, j-1], [i-1, j], [i-1, j+1],\n",
    "                                                  [i, j-1],             [i, j+1]])\n",
    "                        \n",
    "                    else:\n",
    "                        #neighbours = frame[i-1:i+1, j:j+2]\n",
    "                        i_n, j_n = random.choice([[i-1, j], [i-1, j+1],\n",
    "                                                            [i, j+1]])\n",
    "                        \n",
    "                else:\n",
    "                    #neighbours = frame[i-1:i+1, j-1:j+1]\n",
    "                    i_n, j_n = random.choice([[i-1, j-1], [i-1, j],\n",
    "                                              [i, j-1]             ])\n",
    "\n",
    "                \n",
    "                \n",
    "                background_model[i_n,j_n,sample]=frame[i,j]\n",
    "    return res\n"
   ]
  },
  {
   "cell_type": "code",
   "execution_count": null,
   "metadata": {},
   "outputs": [],
   "source": [
    "import cv2\n",
    "resize_relation=1\n",
    "\n",
    "img=io.imread(input_data[\"highway\"][0])#,as_gray=True)\n",
    "img_shape=np.shape(img)\n",
    "img=cv2.resize(img,(img_shape[1]//resize_relation,img_shape[0]//resize_relation))\n",
    "nb_samples=20\n",
    "background=initBackground(img,nb_samples)#,gray_scale=True)\n",
    "for input in input_data[\"highway\"][500:600]:\n",
    "    img=io.imread(input)#,as_gray=True)\n",
    "    img_shape=np.shape(img)\n",
    "    img=cv2.resize(img,(img_shape[1]//resize_relation,img_shape[0]//resize_relation))\n",
    "    #res=segmentationViBe2(img,background,0.15,2,nb_samples)\n",
    "    res=segmentationViBe4(img,background,40,2,nb_samples,40)\n",
    "for input in input_data[\"highway\"][600:1100]:\n",
    "    img=io.imread(input)#,as_gray=True)\n",
    "    img_shape=np.shape(img)\n",
    "    img=cv2.resize(img,(img_shape[1]//resize_relation,img_shape[0]//resize_relation))\n",
    "    #res=segmentationViBe2(img,background,0.15,2,nb_samples)\n",
    "    res=segmentationViBe4(img,background,40,2,nb_samples,40)\n",
    "    #Image.fromarray(res).convert('L').save(input.replace(\"input\",\"output_vibe\"),format=\"PNG\")\n",
    "    #plt.imshow(img,cmap='gray')\n",
    "    #plt.show()\n",
    "    plt.imshow(res,cmap='gray')\n",
    "    plt.show()\n"
   ]
  },
  {
   "cell_type": "code",
   "execution_count": null,
   "metadata": {},
   "outputs": [],
   "source": [
    "import cv2\n",
    "resize_relation=1\n",
    "\n",
    "img=io.imread(input_data[\"highway\"][0])#,as_gray=True)\n",
    "img_shape=np.shape(img)\n",
    "img=cv2.resize(img,(img_shape[1]//resize_relation,img_shape[0]//resize_relation))\n",
    "nb_samples=20\n",
    "background=initBackground(img,nb_samples)#,gray_scale=True)\n",
    "for input in input_data[\"highway\"][500:600]:\n",
    "    img=io.imread(input)#,as_gray=True)\n",
    "    img_shape=np.shape(img)\n",
    "    img=cv2.resize(img,(img_shape[1]//resize_relation,img_shape[0]//resize_relation))\n",
    "    #res=segmentationViBe2(img,background,0.15,2,nb_samples)\n",
    "    res=segmentationViBe4(img,background,20,2,nb_samples,16)\n",
    "for input in input_data[\"highway\"][600:1100]:\n",
    "    img=io.imread(input)#,as_gray=True)\n",
    "    img_shape=np.shape(img)\n",
    "    img=cv2.resize(img,(img_shape[1]//resize_relation,img_shape[0]//resize_relation))\n",
    "    #res=segmentationViBe2(img,background,0.15,2,nb_samples)\n",
    "    res=segmentationViBe4(img,background,20,2,nb_samples,16)\n",
    "    #Image.fromarray(res).convert('L').save(input.replace(\"input\",\"output_vibe\"),format=\"PNG\")\n",
    "    #plt.imshow(img,cmap='gray')\n",
    "    #plt.show()\n",
    "    plt.imshow(res,cmap='gray')\n",
    "    plt.show()\n"
   ]
  },
  {
   "attachments": {},
   "cell_type": "markdown",
   "metadata": {},
   "source": [
    "#### Optimisation"
   ]
  },
  {
   "cell_type": "code",
   "execution_count": 8,
   "metadata": {},
   "outputs": [],
   "source": [
    "def plot_hyperparameter_tuning(res,x_label_orientation=\"horizontal\",x_axis_title=\"Hyper-parameter value\"):\n",
    "    \"\"\"\n",
    "    Montre le graph issu de la recherche d'hyperparamètres.\n",
    "\n",
    "    Args:\n",
    "        res: dictionnaire où pour une clé correspondant à la valeur donnée à l'hyperparamètre associe \n",
    "             le taux moyen d'images correctes obtenu avec ce dernier.\n",
    "        x_label_orientation: orientation de label de l'axe horizontale (\"vertical\" ou \"horizonal\")\n",
    "        x_axis_title: titre de l'axe des abscisses\n",
    "    \n",
    "    \"\"\"\n",
    "    plt.plot(res.keys(),res.values(),'-ro')\n",
    "    keys_with_max=[key for key,value in res.items() if abs(value-max(res.values()))<1e-09]\n",
    "    print(\"On obtient l'indice de Jaccard maximal: \"+str(max(res.values()))+\" pour les valeurs d'hyperparamètre suivantes:\\n\"+str(keys_with_max))\n",
    "    for key in keys_with_max:\n",
    "        axv=plt.axvline(key, color=\"red\", ls=\"--\")\n",
    "    if x_label_orientation==\"vertical\":\n",
    "        plt.xticks(rotation=90)\n",
    "    plt.ylabel(\"Indice de Jaccard\")\n",
    "    plt.xlabel(x_axis_title)\n",
    "    axv.set_label(\"Meilleure configuration\")\n",
    "    plt.legend()\n",
    "    plt.show()"
   ]
  },
  {
   "cell_type": "code",
   "execution_count": 32,
   "metadata": {},
   "outputs": [
    {
     "name": "stdout",
     "output_type": "stream",
     "text": [
      "the mean PCC for hyperparameter value=15 is 0.729617185771932\n",
      "the mean PCC for hyperparameter value=20 is 0.741466751657028\n",
      "the mean PCC for hyperparameter value=25 is 0.7459668234514\n",
      "the mean PCC for hyperparameter value=30 is 0.7478706055509412\n",
      "the mean PCC for hyperparameter value=35 is 0.7487857057279134\n",
      "the mean PCC for hyperparameter value=40 is 0.7490630664740873\n",
      "the mean PCC for hyperparameter value=45 is 0.7486756416671377\n"
     ]
    }
   ],
   "source": [
    "import cv2\n",
    "\n",
    "resize_relation=1\n",
    "nb_samples=20\n",
    "\n",
    "PCCs={}\n",
    "res_to_plot={}\n",
    "\n",
    "\n",
    "for value in [15,20,25,30,35,40,45]:\n",
    "    PCCmoy=0\n",
    "    for label in labels:\n",
    "        if label==\"PETS2006\":\n",
    "            resize_relation=2\n",
    "        else:\n",
    "            resize_relation=1\n",
    "        PCCs[label]=[]\n",
    "        img=io.imread(input_data[label][0])#,as_gray=True)\n",
    "        img_shape=np.shape(img)\n",
    "        img=cv2.resize(img,(img_shape[1]//resize_relation,img_shape[0]//resize_relation))\n",
    "        background=initBackground(img,nb_samples)#,gray_scale=True)\n",
    "        for i in range(600,631):\n",
    "            input=input_data[label][i]\n",
    "            groundtruth=io.imread(groundTruth_data[label][i])\n",
    "            groundtruth[groundtruth>=50]=255\n",
    "            img=io.imread(input)#,as_gray=True)\n",
    "            img_shape=np.shape(img)\n",
    "            img=cv2.resize(img,(img_shape[1]//resize_relation,img_shape[0]//resize_relation))\n",
    "            groundtruth=cv2.resize(groundtruth,(img_shape[1]//resize_relation,img_shape[0]//resize_relation))\n",
    "            #res=segmentationViBe2(img,background,0.15,2,nb_samples)\n",
    "            res=segmentationViBe4(img,background,value,2,nb_samples,16)\n",
    "            PCCs[label].append(PercentageCorrectClassification(res,groundtruth))\n",
    "        #print(\"the mean PCC for label \"+label+\": \"+str(np.mean(PCCs[label])))\n",
    "        PCCmoy+=np.mean(PCCs[label])\n",
    "    PCCmoy=PCCmoy/len(labels)\n",
    "    res_to_plot[value]=PCCmoy\n",
    "    print(\"the mean PCC for hyperparameter value=\"+str(value)+\" is \"+str(PCCmoy))\n",
    "        #plt.imshow(img,cmap='gray')\n",
    "        #plt.show()\n",
    "        #plt.imshow(res,cmap='gray')\n",
    "        #plt.show()"
   ]
  },
  {
   "cell_type": "code",
   "execution_count": 25,
   "metadata": {},
   "outputs": [
    {
     "name": "stdout",
     "output_type": "stream",
     "text": [
      "the mean f1 score for hyperparameter value=15 is 0.46581772255413084\n",
      "the mean f1 score for hyperparameter value=20 is 0.5271095179698017\n",
      "the mean f1 score for hyperparameter value=25 is 0.5605654116207943\n",
      "the mean f1 score for hyperparameter value=30 is 0.5762989646047191\n",
      "the mean f1 score for hyperparameter value=35 is 0.5866919038394588\n",
      "the mean f1 score for hyperparameter value=40 is 0.5850462468002917\n"
     ]
    }
   ],
   "source": [
    "f1_score_plot,precision,recall,f1_score={},{},{},{}\n",
    "resize_relation=2\n",
    "\n",
    "for value in [15,20,25,30,35,40]:\n",
    "    f1_score_moy=0\n",
    "    for label in labels:\n",
    "        if label==\"PETS2006\":\n",
    "            resize_relation=2\n",
    "        else:\n",
    "            resize_relation=1\n",
    "        precision[label]=[]\n",
    "        recall[label]=[]\n",
    "        f1_score[label]=[]\n",
    "        img=io.imread(input_data[label][0])#,as_gray=True)\n",
    "        img_shape=np.shape(img)\n",
    "        img=cv2.resize(img,(img_shape[1]//resize_relation,img_shape[0]//resize_relation))\n",
    "        background=initBackground(img,nb_samples)#,gray_scale=True)\n",
    "        for i in range(600,631):\n",
    "            input=input_data[label][i]\n",
    "            groundtruth=io.imread(groundTruth_data[label][i])\n",
    "            groundtruth[groundtruth>=50]=255\n",
    "            img=io.imread(input)#,as_gray=True)\n",
    "            img_shape=np.shape(img)\n",
    "            img=cv2.resize(img,(img_shape[1]//resize_relation,img_shape[0]//resize_relation))\n",
    "            groundtruth=cv2.resize(groundtruth,(img_shape[1]//resize_relation,img_shape[0]//resize_relation))\n",
    "            #res=segmentationViBe2(img,background,0.15,2,nb_samples)\n",
    "            res=segmentationViBe4(img,background,value,2,nb_samples,16)\n",
    "            p,r,f=classifactionMetrics(res,groundtruth)\n",
    "            precision[label].append(p)\n",
    "            recall[label].append(r)\n",
    "            f1_score[label].append(f)\n",
    "        #print(\"the mean PCC for label \"+label+\": \"+str(np.mean(PCCs[label])))\n",
    "        f1_score_moy+=np.mean(f1_score[label])\n",
    "    f1_score_moy=f1_score_moy/len(labels)\n",
    "    f1_score_plot[value]=f1_score_moy\n",
    "    print(\"the mean f1 score for hyperparameter value=\"+str(value)+\" is \"+str(f1_score_moy))\n",
    "        #plt.imshow(img,cmap='gray')\n",
    "        #plt.show()\n",
    "        #plt.imshow(res,cmap='gray')\n",
    "        #plt.show()"
   ]
  },
  {
   "cell_type": "code",
   "execution_count": 98,
   "metadata": {},
   "outputs": [
    {
     "name": "stdout",
     "output_type": "stream",
     "text": [
      "the mean jaccard's coefficient for hyperparameter value=15 is 0.4147140545629365\n",
      "the mean jaccard's coefficient for hyperparameter value=20 is 0.44993411558867746\n",
      "the mean jaccard's coefficient for hyperparameter value=25 is 0.4710352931550668\n",
      "the mean jaccard's coefficient for hyperparameter value=30 is 0.48120947134048886\n",
      "the mean jaccard's coefficient for hyperparameter value=35 is 0.4871544912384885\n",
      "the mean jaccard's coefficient for hyperparameter value=40 is 0.48973168172449794\n",
      "the mean jaccard's coefficient for hyperparameter value=45 is 0.49299070947218154\n"
     ]
    }
   ],
   "source": [
    "jaccard_coeff={}\n",
    "resize_relation=2\n",
    "R=20\n",
    "seuil=2\n",
    "random_subsampling=16\n",
    "\n",
    "for nb_samples in [15,20,25,30,35,40,45]:\n",
    "    coeff_moy=0\n",
    "    coeff={}\n",
    "    for label in labels:\n",
    "        if label==\"PETS2006\":\n",
    "            resize_relation=2\n",
    "        else:\n",
    "            resize_relation=1\n",
    "        coeff[label]=[]\n",
    "        img=io.imread(input_data[label][0])#,as_gray=True)\n",
    "        img_shape=np.shape(img)\n",
    "        img=cv2.resize(img,(img_shape[1]//resize_relation,img_shape[0]//resize_relation))\n",
    "        background=initBackground(img,nb_samples)#,gray_scale=True)\n",
    "        for i in range(600,631):\n",
    "            input=input_data[label][i]\n",
    "            groundtruth=io.imread(groundTruth_data[label][i])\n",
    "            groundtruth[groundtruth>=50]=255\n",
    "            img=io.imread(input)#,as_gray=True)\n",
    "            img_shape=np.shape(img)\n",
    "            img=cv2.resize(img,(img_shape[1]//resize_relation,img_shape[0]//resize_relation))\n",
    "            groundtruth=cv2.resize(groundtruth,(img_shape[1]//resize_relation,img_shape[0]//resize_relation))\n",
    "            #res=segmentationViBe2(img,background,0.15,2,nb_samples)\n",
    "            res=segmentationViBe4(img,background,R,seuil,nb_samples,random_subsampling)\n",
    "            coeff[label].append(jaccardCoeff(res,groundtruth))\n",
    "        #print(\"the mean PCC for label \"+label+\": \"+str(np.mean(PCCs[label])))\n",
    "        coeff_moy+=np.mean(coeff[label])\n",
    "    coeff_moy=coeff_moy/len(labels)\n",
    "    jaccard_coeff[nb_samples]=coeff\n",
    "    print(\"the mean jaccard's coefficient for hyperparameter value=\"+str(nb_samples)+\" is \"+str(coeff_moy))\n",
    "        #plt.imshow(img,cmap='gray')\n",
    "        #plt.show()\n",
    "        #plt.imshow(res,cmap='gray')\n",
    "        #plt.show()"
   ]
  },
  {
   "cell_type": "code",
   "execution_count": 99,
   "metadata": {},
   "outputs": [
    {
     "name": "stdout",
     "output_type": "stream",
     "text": [
      "the mean jaccard's coefficient for hyperparameter value=50 is 0.4941664195962923\n",
      "the mean jaccard's coefficient for hyperparameter value=55 is 0.49509915322766734\n",
      "the mean jaccard's coefficient for hyperparameter value=60 is 0.4958883429756337\n",
      "the mean jaccard's coefficient for hyperparameter value=65 is 0.4929937374579557\n"
     ]
    }
   ],
   "source": [
    "for nb_samples in [50,55,60,65]:\n",
    "    coeff_moy=0\n",
    "    coeff={}\n",
    "    for label in labels:\n",
    "        if label==\"PETS2006\":\n",
    "            resize_relation=2\n",
    "        else:\n",
    "            resize_relation=1\n",
    "        coeff[label]=[]\n",
    "        img=io.imread(input_data[label][0])#,as_gray=True)\n",
    "        img_shape=np.shape(img)\n",
    "        img=cv2.resize(img,(img_shape[1]//resize_relation,img_shape[0]//resize_relation))\n",
    "        background=initBackground(img,nb_samples)#,gray_scale=True)\n",
    "        for i in range(600,631):\n",
    "            input=input_data[label][i]\n",
    "            groundtruth=io.imread(groundTruth_data[label][i])\n",
    "            groundtruth[groundtruth>=50]=255\n",
    "            img=io.imread(input)#,as_gray=True)\n",
    "            img_shape=np.shape(img)\n",
    "            img=cv2.resize(img,(img_shape[1]//resize_relation,img_shape[0]//resize_relation))\n",
    "            groundtruth=cv2.resize(groundtruth,(img_shape[1]//resize_relation,img_shape[0]//resize_relation))\n",
    "            #res=segmentationViBe2(img,background,0.15,2,nb_samples)\n",
    "            res=segmentationViBe4(img,background,R,seuil,nb_samples,random_subsampling)\n",
    "            coeff[label].append(jaccardCoeff(res,groundtruth))\n",
    "        #print(\"the mean PCC for label \"+label+\": \"+str(np.mean(PCCs[label])))\n",
    "        coeff_moy+=np.mean(coeff[label])\n",
    "    coeff_moy=coeff_moy/len(labels)\n",
    "    jaccard_coeff[nb_samples]=coeff\n",
    "    print(\"the mean jaccard's coefficient for hyperparameter value=\"+str(nb_samples)+\" is \"+str(coeff_moy))\n",
    "        #plt.imshow(img,cmap='gray')\n",
    "        #plt.show()\n",
    "        #plt.imshow(res,cmap='gray')\n",
    "        #plt.show()"
   ]
  },
  {
   "cell_type": "code",
   "execution_count": 100,
   "metadata": {},
   "outputs": [
    {
     "name": "stdout",
     "output_type": "stream",
     "text": [
      "the mean jaccard's coefficient for hyperparameter value=70 is 0.4955070620994125\n",
      "the mean jaccard's coefficient for hyperparameter value=75 is 0.4969807963838031\n"
     ]
    }
   ],
   "source": [
    "for nb_samples in [70,75]:\n",
    "    coeff_moy=0\n",
    "    coeff={}\n",
    "    for label in labels:\n",
    "        if label==\"PETS2006\":\n",
    "            resize_relation=2\n",
    "        else:\n",
    "            resize_relation=1\n",
    "        coeff[label]=[]\n",
    "        img=io.imread(input_data[label][0])#,as_gray=True)\n",
    "        img_shape=np.shape(img)\n",
    "        img=cv2.resize(img,(img_shape[1]//resize_relation,img_shape[0]//resize_relation))\n",
    "        background=initBackground(img,nb_samples)#,gray_scale=True)\n",
    "        for i in range(600,631):\n",
    "            input=input_data[label][i]\n",
    "            groundtruth=io.imread(groundTruth_data[label][i])\n",
    "            groundtruth[groundtruth>=50]=255\n",
    "            img=io.imread(input)#,as_gray=True)\n",
    "            img_shape=np.shape(img)\n",
    "            img=cv2.resize(img,(img_shape[1]//resize_relation,img_shape[0]//resize_relation))\n",
    "            groundtruth=cv2.resize(groundtruth,(img_shape[1]//resize_relation,img_shape[0]//resize_relation))\n",
    "            #res=segmentationViBe2(img,background,0.15,2,nb_samples)\n",
    "            res=segmentationViBe4(img,background,R,seuil,nb_samples,random_subsampling)\n",
    "            coeff[label].append(jaccardCoeff(res,groundtruth))\n",
    "        #print(\"the mean PCC for label \"+label+\": \"+str(np.mean(PCCs[label])))\n",
    "        coeff_moy+=np.mean(coeff[label])\n",
    "    coeff_moy=coeff_moy/len(labels)\n",
    "    jaccard_coeff[nb_samples]=coeff\n",
    "    print(\"the mean jaccard's coefficient for hyperparameter value=\"+str(nb_samples)+\" is \"+str(coeff_moy))\n",
    "        #plt.imshow(img,cmap='gray')\n",
    "        #plt.show()\n",
    "        #plt.imshow(res,cmap='gray')\n",
    "        #plt.show()"
   ]
  },
  {
   "cell_type": "code",
   "execution_count": 103,
   "metadata": {},
   "outputs": [],
   "source": [
    "jaccard_coeff_plot={}\n",
    "for nb_samples in [15,20,25,30,35,40,45,50,55,60,65,70,75]:\n",
    "    mean=0\n",
    "    for label in labels:\n",
    "        mean+=np.mean(jaccard_coeff[nb_samples][label])\n",
    "    mean=mean/len(labels)\n",
    "    jaccard_coeff_plot[nb_samples]=mean\n",
    "        "
   ]
  },
  {
   "cell_type": "code",
   "execution_count": 104,
   "metadata": {},
   "outputs": [
    {
     "name": "stdout",
     "output_type": "stream",
     "text": [
      "On obtient l'indice de Jaccard maximal: 0.4969807963838031 pour les valeurs d'hyperparamètre suivantes:\n",
      "[75]\n"
     ]
    },
    {
     "data": {
      "image/png": "[encoded data removed]",
      "text/plain": [
       "<Figure size 432x288 with 1 Axes>"
      ]
     },
     "metadata": {
      "needs_background": "light"
     },
     "output_type": "display_data"
    }
   ],
   "source": [
    "plot_hyperparameter_tuning(jaccard_coeff_plot)"
   ]
  },
  {
   "cell_type": "code",
   "execution_count": 87,
   "metadata": {},
   "outputs": [
    {
     "name": "stdout",
     "output_type": "stream",
     "text": [
      "the mean jaccard's coefficient for hyperparameter value=15 is 0.5785034534927529\n",
      "the mean jaccard's coefficient for hyperparameter value=20 is 0.6068774875317272\n",
      "the mean jaccard's coefficient for hyperparameter value=25 is 0.6110395620774324\n",
      "the mean jaccard's coefficient for hyperparameter value=30 is 0.615780567549612\n",
      "the mean jaccard's coefficient for hyperparameter value=35 is 0.6250248520862323\n",
      "the mean jaccard's coefficient for hyperparameter value=40 is 0.6280244534441837\n",
      "the mean jaccard's coefficient for hyperparameter value=45 is 0.6278236784575949\n"
     ]
    }
   ],
   "source": [
    "jaccard_coeff={}\n",
    "resize_relation=2\n",
    "\n",
    "for value in [15,20,25,30,35,40,45]:\n",
    "    coeff_moy=0\n",
    "    coeff={}\n",
    "    label=\"PETS2006\"\n",
    "    \n",
    "    #if label==\"PETS2006\":\n",
    "     #   resize_relation=2\n",
    "    #else:\n",
    "     #   resize_relation=1\n",
    "    \n",
    "    coeff[label]=[]\n",
    "    img=io.imread(input_data[label][0])#,as_gray=True)\n",
    "    img_shape=np.shape(img)\n",
    "    img=cv2.resize(img,(img_shape[1]//resize_relation,img_shape[0]//resize_relation))\n",
    "    background=initBackground(img,nb_samples)#,gray_scale=True)\n",
    "    for i in range(600,700):\n",
    "        input=input_data[label][i]\n",
    "        groundtruth=io.imread(groundTruth_data[label][i])\n",
    "        groundtruth[groundtruth>=50]=255\n",
    "        img=io.imread(input)#,as_gray=True)\n",
    "        img_shape=np.shape(img)\n",
    "        img=cv2.resize(img,(img_shape[1]//resize_relation,img_shape[0]//resize_relation))\n",
    "        groundtruth=cv2.resize(groundtruth,(img_shape[1]//resize_relation,img_shape[0]//resize_relation))\n",
    "        #res=segmentationViBe2(img,background,0.15,2,nb_samples)\n",
    "        res=segmentationViBe4(img,background,value,2,nb_samples,16)\n",
    "    for i in range(700,731):\n",
    "        input=input_data[label][i]\n",
    "        groundtruth=io.imread(groundTruth_data[label][i])\n",
    "        groundtruth[groundtruth>=50]=255\n",
    "        img=io.imread(input)#,as_gray=True)\n",
    "        img_shape=np.shape(img)\n",
    "        img=cv2.resize(img,(img_shape[1]//resize_relation,img_shape[0]//resize_relation))\n",
    "        groundtruth=cv2.resize(groundtruth,(img_shape[1]//resize_relation,img_shape[0]//resize_relation))\n",
    "        #res=segmentationViBe2(img,background,0.15,2,nb_samples)\n",
    "        res=segmentationViBe4(img,background,value,2,nb_samples,16)\n",
    "        coeff[label].append(jaccardCoeff(res,groundtruth))\n",
    "    jaccard_coeff[value]=np.mean(coeff[label])\n",
    "    print(\"the mean jaccard's coefficient for hyperparameter value=\"+str(value)+\" is \"+str(jaccard_coeff[value]))"
   ]
  },
  {
   "cell_type": "code",
   "execution_count": 88,
   "metadata": {},
   "outputs": [
    {
     "name": "stdout",
     "output_type": "stream",
     "text": [
      "the mean jaccard's coefficient for hyperparameter value=50 is 0.6294881393719333\n",
      "the mean jaccard's coefficient for hyperparameter value=55 is 0.6188291375056465\n",
      "the mean jaccard's coefficient for hyperparameter value=60 is 0.6084565734690005\n",
      "the mean jaccard's coefficient for hyperparameter value=65 is 0.6024567277635445\n"
     ]
    }
   ],
   "source": [
    "for value in [50,55,60,65]:\n",
    "    coeff_moy=0\n",
    "    coeff={}\n",
    "    label=\"PETS2006\"\n",
    "    \n",
    "    #if label==\"PETS2006\":\n",
    "     #   resize_relation=2\n",
    "    #else:\n",
    "     #   resize_relation=1\n",
    "    \n",
    "    coeff[label]=[]\n",
    "    img=io.imread(input_data[label][0])#,as_gray=True)\n",
    "    img_shape=np.shape(img)\n",
    "    img=cv2.resize(img,(img_shape[1]//resize_relation,img_shape[0]//resize_relation))\n",
    "    background=initBackground(img,nb_samples)#,gray_scale=True)\n",
    "    for i in range(600,700):\n",
    "        input=input_data[label][i]\n",
    "        groundtruth=io.imread(groundTruth_data[label][i])\n",
    "        groundtruth[groundtruth>=50]=255\n",
    "        img=io.imread(input)#,as_gray=True)\n",
    "        img_shape=np.shape(img)\n",
    "        img=cv2.resize(img,(img_shape[1]//resize_relation,img_shape[0]//resize_relation))\n",
    "        groundtruth=cv2.resize(groundtruth,(img_shape[1]//resize_relation,img_shape[0]//resize_relation))\n",
    "        #res=segmentationViBe2(img,background,0.15,2,nb_samples)\n",
    "        res=segmentationViBe4(img,background,value,2,nb_samples,16)\n",
    "    for i in range(700,731):\n",
    "        input=input_data[label][i]\n",
    "        groundtruth=io.imread(groundTruth_data[label][i])\n",
    "        groundtruth[groundtruth>=50]=255\n",
    "        img=io.imread(input)#,as_gray=True)\n",
    "        img_shape=np.shape(img)\n",
    "        img=cv2.resize(img,(img_shape[1]//resize_relation,img_shape[0]//resize_relation))\n",
    "        groundtruth=cv2.resize(groundtruth,(img_shape[1]//resize_relation,img_shape[0]//resize_relation))\n",
    "        #res=segmentationViBe2(img,background,0.15,2,nb_samples)\n",
    "        res=segmentationViBe4(img,background,value,2,nb_samples,16)\n",
    "        coeff[label].append(jaccardCoeff(res,groundtruth))\n",
    "    jaccard_coeff[value]=np.mean(coeff[label])\n",
    "    print(\"the mean jaccard's coefficient for hyperparameter value=\"+str(value)+\" is \"+str(jaccard_coeff[value]))"
   ]
  },
  {
   "cell_type": "code",
   "execution_count": 95,
   "metadata": {},
   "outputs": [
    {
     "name": "stdout",
     "output_type": "stream",
     "text": [
      "On obtient l'indice de Jaccard maximal: 0.6294881393719333 pour les valeurs d'hyperparamètre suivantes:\n",
      "[50]\n"
     ]
    },
    {
     "data": {
      "image/png": "[encoded data removed]",
      "text/plain": [
       "<Figure size 432x288 with 1 Axes>"
      ]
     },
     "metadata": {
      "needs_background": "light"
     },
     "output_type": "display_data"
    }
   ],
   "source": [
    "plot_hyperparameter_tuning(jaccard_coeff)"
   ]
  },
  {
   "cell_type": "code",
   "execution_count": 97,
   "metadata": {},
   "outputs": [
    {
     "name": "stdout",
     "output_type": "stream",
     "text": [
      "the mean jaccard's coefficient for hyperparameter value=5 is 0.42623877233406804\n",
      "the mean jaccard's coefficient for hyperparameter value=10 is 0.5851030471578137\n",
      "the mean jaccard's coefficient for hyperparameter value=15 is 0.6012267736855265\n",
      "the mean jaccard's coefficient for hyperparameter value=20 is 0.6031697442397256\n",
      "the mean jaccard's coefficient for hyperparameter value=25 is 0.6041443982204235\n",
      "the mean jaccard's coefficient for hyperparameter value=30 is 0.6041860212603415\n",
      "the mean jaccard's coefficient for hyperparameter value=35 is 0.6093627068162963\n",
      "the mean jaccard's coefficient for hyperparameter value=40 is 0.6109037554909962\n"
     ]
    }
   ],
   "source": [
    "jaccard_coeff2={}\n",
    "resize_relation=2\n",
    "\n",
    "for nb_samples in [5,10,15,20,25,30,35,40]:\n",
    "    coeff_moy=0\n",
    "    coeff={}\n",
    "    label=\"PETS2006\"\n",
    "    \n",
    "    #if label==\"PETS2006\":\n",
    "     #   resize_relation=2\n",
    "    #else:\n",
    "     #   resize_relation=1\n",
    "    \n",
    "    coeff[label]=[]\n",
    "    img=io.imread(input_data[label][0])#,as_gray=True)\n",
    "    img_shape=np.shape(img)\n",
    "    img=cv2.resize(img,(img_shape[1]//resize_relation,img_shape[0]//resize_relation))\n",
    "    background=initBackground(img,nb_samples)#,gray_scale=True)\n",
    "    for i in range(600,700):\n",
    "        input=input_data[label][i]\n",
    "        groundtruth=io.imread(groundTruth_data[label][i])\n",
    "        groundtruth[groundtruth>=50]=255\n",
    "        img=io.imread(input)#,as_gray=True)\n",
    "        img_shape=np.shape(img)\n",
    "        img=cv2.resize(img,(img_shape[1]//resize_relation,img_shape[0]//resize_relation))\n",
    "        groundtruth=cv2.resize(groundtruth,(img_shape[1]//resize_relation,img_shape[0]//resize_relation))\n",
    "        #res=segmentationViBe2(img,background,0.15,2,nb_samples)\n",
    "        res=segmentationViBe4(img,background,20,2,nb_samples,16)\n",
    "    for i in range(700,731):\n",
    "        input=input_data[label][i]\n",
    "        groundtruth=io.imread(groundTruth_data[label][i])\n",
    "        groundtruth[groundtruth>=50]=255\n",
    "        img=io.imread(input)#,as_gray=True)\n",
    "        img_shape=np.shape(img)\n",
    "        img=cv2.resize(img,(img_shape[1]//resize_relation,img_shape[0]//resize_relation))\n",
    "        groundtruth=cv2.resize(groundtruth,(img_shape[1]//resize_relation,img_shape[0]//resize_relation))\n",
    "        #res=segmentationViBe2(img,background,0.15,2,nb_samples)\n",
    "        res=segmentationViBe4(img,background,20,2,nb_samples,16)\n",
    "        coeff[label].append(jaccardCoeff(res,groundtruth))\n",
    "    jaccard_coeff2[nb_samples]=np.mean(coeff[label])\n",
    "    print(\"the mean jaccard's coefficient for hyperparameter value=\"+str(nb_samples)+\" is \"+str(jaccard_coeff2[nb_samples]))"
   ]
  },
  {
   "cell_type": "code",
   "execution_count": 98,
   "metadata": {},
   "outputs": [
    {
     "name": "stdout",
     "output_type": "stream",
     "text": [
      "the mean jaccard's coefficient for hyperparameter value=45 is 0.6088637825253821\n",
      "the mean jaccard's coefficient for hyperparameter value=50 is 0.6080759206833604\n",
      "the mean jaccard's coefficient for hyperparameter value=55 is 0.6089661047869036\n",
      "the mean jaccard's coefficient for hyperparameter value=50 is 0.6083699199575535\n"
     ]
    }
   ],
   "source": [
    "for nb_samples in [45,50,55,50]:\n",
    "    coeff_moy=0\n",
    "    coeff={}\n",
    "    label=\"PETS2006\"\n",
    "    \n",
    "    #if label==\"PETS2006\":\n",
    "     #   resize_relation=2\n",
    "    #else:\n",
    "     #   resize_relation=1\n",
    "    \n",
    "    coeff[label]=[]\n",
    "    img=io.imread(input_data[label][0])#,as_gray=True)\n",
    "    img_shape=np.shape(img)\n",
    "    img=cv2.resize(img,(img_shape[1]//resize_relation,img_shape[0]//resize_relation))\n",
    "    background=initBackground(img,nb_samples)#,gray_scale=True)\n",
    "    for i in range(600,700):\n",
    "        input=input_data[label][i]\n",
    "        groundtruth=io.imread(groundTruth_data[label][i])\n",
    "        groundtruth[groundtruth>=50]=255\n",
    "        img=io.imread(input)#,as_gray=True)\n",
    "        img_shape=np.shape(img)\n",
    "        img=cv2.resize(img,(img_shape[1]//resize_relation,img_shape[0]//resize_relation))\n",
    "        groundtruth=cv2.resize(groundtruth,(img_shape[1]//resize_relation,img_shape[0]//resize_relation))\n",
    "        #res=segmentationViBe2(img,background,0.15,2,nb_samples)\n",
    "        res=segmentationViBe4(img,background,20,2,nb_samples,16)\n",
    "    for i in range(700,731):\n",
    "        input=input_data[label][i]\n",
    "        groundtruth=io.imread(groundTruth_data[label][i])\n",
    "        groundtruth[groundtruth>=50]=255\n",
    "        img=io.imread(input)#,as_gray=True)\n",
    "        img_shape=np.shape(img)\n",
    "        img=cv2.resize(img,(img_shape[1]//resize_relation,img_shape[0]//resize_relation))\n",
    "        groundtruth=cv2.resize(groundtruth,(img_shape[1]//resize_relation,img_shape[0]//resize_relation))\n",
    "        #res=segmentationViBe2(img,background,0.15,2,nb_samples)\n",
    "        res=segmentationViBe4(img,background,20,2,nb_samples,16)\n",
    "        coeff[label].append(jaccardCoeff(res,groundtruth))\n",
    "    jaccard_coeff2[nb_samples]=np.mean(coeff[label])\n",
    "    print(\"the mean jaccard's coefficient for hyperparameter value=\"+str(nb_samples)+\" is \"+str(jaccard_coeff2[nb_samples]))"
   ]
  },
  {
   "cell_type": "code",
   "execution_count": 99,
   "metadata": {},
   "outputs": [
    {
     "name": "stdout",
     "output_type": "stream",
     "text": [
      "On obtient l'indice de Jaccard maximal: 0.6109037554909962 pour les valeurs d'hyperparamètre suivantes:\n",
      "[40]\n"
     ]
    },
    {
     "data": {
      "image/png": "[encoded data removed]",
      "text/plain": [
       "<Figure size 432x288 with 1 Axes>"
      ]
     },
     "metadata": {
      "needs_background": "light"
     },
     "output_type": "display_data"
    }
   ],
   "source": [
    "plot_hyperparameter_tuning(jaccard_coeff2)"
   ]
  },
  {
   "cell_type": "code",
   "execution_count": 100,
   "metadata": {},
   "outputs": [
    {
     "name": "stdout",
     "output_type": "stream",
     "text": [
      "the mean jaccard's coefficient for hyperparameter value=1 is 0.5247362268062862\n",
      "the mean jaccard's coefficient for hyperparameter value=2 is 0.6080375943924514\n",
      "the mean jaccard's coefficient for hyperparameter value=4 is 0.6190609071574038\n",
      "the mean jaccard's coefficient for hyperparameter value=6 is 0.5748565559830896\n",
      "the mean jaccard's coefficient for hyperparameter value=8 is 0.5073819634432732\n",
      "the mean jaccard's coefficient for hyperparameter value=10 is 0.42766267768800936\n",
      "the mean jaccard's coefficient for hyperparameter value=12 is 0.33860149414436974\n",
      "the mean jaccard's coefficient for hyperparameter value=15 is 0.23266036456039474\n"
     ]
    }
   ],
   "source": [
    "jaccard_coeff3={}\n",
    "resize_relation=2\n",
    "nb_samples=40\n",
    "\n",
    "for value in [1,2,4,6,8,10,12,15]:\n",
    "    coeff_moy=0\n",
    "    coeff={}\n",
    "    label=\"PETS2006\"\n",
    "    \n",
    "    #if label==\"PETS2006\":\n",
    "     #   resize_relation=2\n",
    "    #else:\n",
    "     #   resize_relation=1\n",
    "    \n",
    "    coeff[label]=[]\n",
    "    img=io.imread(input_data[label][0])#,as_gray=True)\n",
    "    img_shape=np.shape(img)\n",
    "    img=cv2.resize(img,(img_shape[1]//resize_relation,img_shape[0]//resize_relation))\n",
    "    background=initBackground(img,nb_samples)#,gray_scale=True)\n",
    "    for i in range(600,700):\n",
    "        input=input_data[label][i]\n",
    "        groundtruth=io.imread(groundTruth_data[label][i])\n",
    "        groundtruth[groundtruth>=50]=255\n",
    "        img=io.imread(input)#,as_gray=True)\n",
    "        img_shape=np.shape(img)\n",
    "        img=cv2.resize(img,(img_shape[1]//resize_relation,img_shape[0]//resize_relation))\n",
    "        groundtruth=cv2.resize(groundtruth,(img_shape[1]//resize_relation,img_shape[0]//resize_relation))\n",
    "        #res=segmentationViBe2(img,background,0.15,2,nb_samples)\n",
    "        res=segmentationViBe4(img,background,20,value,nb_samples,16)\n",
    "    for i in range(700,731):\n",
    "        input=input_data[label][i]\n",
    "        groundtruth=io.imread(groundTruth_data[label][i])\n",
    "        groundtruth[groundtruth>=50]=255\n",
    "        img=io.imread(input)#,as_gray=True)\n",
    "        img_shape=np.shape(img)\n",
    "        img=cv2.resize(img,(img_shape[1]//resize_relation,img_shape[0]//resize_relation))\n",
    "        groundtruth=cv2.resize(groundtruth,(img_shape[1]//resize_relation,img_shape[0]//resize_relation))\n",
    "        #res=segmentationViBe2(img,background,0.15,2,nb_samples)\n",
    "        res=segmentationViBe4(img,background,20,value,nb_samples,16)\n",
    "        coeff[label].append(jaccardCoeff(res,groundtruth))\n",
    "    jaccard_coeff3[value]=np.mean(coeff[label])\n",
    "    print(\"the mean jaccard's coefficient for hyperparameter value=\"+str(value)+\" is \"+str(jaccard_coeff3[value]))"
   ]
  },
  {
   "cell_type": "code",
   "execution_count": 101,
   "metadata": {},
   "outputs": [
    {
     "name": "stdout",
     "output_type": "stream",
     "text": [
      "On obtient l'indice de Jaccard maximal: 0.6190609071574038 pour les valeurs d'hyperparamètre suivantes:\n",
      "[4]\n"
     ]
    },
    {
     "data": {
      "image/png": "[encoded data removed]",
      "text/plain": [
       "<Figure size 432x288 with 1 Axes>"
      ]
     },
     "metadata": {
      "needs_background": "light"
     },
     "output_type": "display_data"
    }
   ],
   "source": [
    "plot_hyperparameter_tuning(jaccard_coeff3)"
   ]
  },
  {
   "cell_type": "code",
   "execution_count": 14,
   "metadata": {},
   "outputs": [
    {
     "name": "stdout",
     "output_type": "stream",
     "text": [
      "the mean jaccard's coefficient for hyperparameter value=10 is 0.4485130237126565\n",
      "the mean jaccard's coefficient for hyperparameter value=20 is 0.6194223648821724\n",
      "the mean jaccard's coefficient for hyperparameter value=25 is 0.6458666206129723\n",
      "the mean jaccard's coefficient for hyperparameter value=30 is 0.6612591326401006\n",
      "the mean jaccard's coefficient for hyperparameter value=35 is 0.6732821005723987\n",
      "the mean jaccard's coefficient for hyperparameter value=40 is 0.6818576156241567\n",
      "the mean jaccard's coefficient for hyperparameter value=45 is 0.6915770685143042\n",
      "the mean jaccard's coefficient for hyperparameter value=50 is 0.6950680426971242\n",
      "the mean jaccard's coefficient for hyperparameter value=55 is 0.689321738292107\n",
      "the mean jaccard's coefficient for hyperparameter value=60 is 0.6848548389636163\n",
      "the mean jaccard's coefficient for hyperparameter value=65 is 0.6810435079584206\n"
     ]
    }
   ],
   "source": [
    "jaccard_coeff4={}\n",
    "resize_relation=2\n",
    "nb_samples=40\n",
    "seuil=4\n",
    "\n",
    "for value in [10,20,25,30,35,40,45,50,55,60,65]:\n",
    "    coeff_moy=0\n",
    "    coeff={}\n",
    "    label=\"PETS2006\"\n",
    "    \n",
    "    #if label==\"PETS2006\":\n",
    "     #   resize_relation=2\n",
    "    #else:\n",
    "     #   resize_relation=1\n",
    "    \n",
    "    coeff[label]=[]\n",
    "    img=io.imread(input_data[label][0])#,as_gray=True)\n",
    "    img_shape=np.shape(img)\n",
    "    img=cv2.resize(img,(img_shape[1]//resize_relation,img_shape[0]//resize_relation))\n",
    "    background=initBackground(img,nb_samples)#,gray_scale=True)\n",
    "    for i in range(600,700):\n",
    "        input=input_data[label][i]\n",
    "        groundtruth=io.imread(groundTruth_data[label][i])\n",
    "        groundtruth[groundtruth>=50]=255\n",
    "        img=io.imread(input)#,as_gray=True)\n",
    "        img_shape=np.shape(img)\n",
    "        img=cv2.resize(img,(img_shape[1]//resize_relation,img_shape[0]//resize_relation))\n",
    "        groundtruth=cv2.resize(groundtruth,(img_shape[1]//resize_relation,img_shape[0]//resize_relation))\n",
    "        #res=segmentationViBe2(img,background,0.15,2,nb_samples)\n",
    "        res=segmentationViBe4(img,background,value,seuil,nb_samples,16)\n",
    "    for i in range(700,731):\n",
    "        input=input_data[label][i]\n",
    "        groundtruth=io.imread(groundTruth_data[label][i])\n",
    "        groundtruth[groundtruth>=50]=255\n",
    "        img=io.imread(input)#,as_gray=True)\n",
    "        img_shape=np.shape(img)\n",
    "        img=cv2.resize(img,(img_shape[1]//resize_relation,img_shape[0]//resize_relation))\n",
    "        groundtruth=cv2.resize(groundtruth,(img_shape[1]//resize_relation,img_shape[0]//resize_relation))\n",
    "        #res=segmentationViBe2(img,background,0.15,2,nb_samples)\n",
    "        res=segmentationViBe4(img,background,value,seuil,nb_samples,16)\n",
    "        coeff[label].append(jaccardCoeff(res,groundtruth))\n",
    "    jaccard_coeff4[value]=np.mean(coeff[label])\n",
    "    print(\"the mean jaccard's coefficient for hyperparameter value=\"+str(value)+\" is \"+str(jaccard_coeff4[value]))"
   ]
  },
  {
   "cell_type": "code",
   "execution_count": 17,
   "metadata": {},
   "outputs": [
    {
     "name": "stdout",
     "output_type": "stream",
     "text": [
      "On obtient l'indice de Jaccard maximal: 0.6950680426971242 pour les valeurs d'hyperparamètre suivantes:\n",
      "[50]\n"
     ]
    },
    {
     "data": {
      "image/png": "[encoded data removed]",
      "text/plain": [
       "<Figure size 432x288 with 1 Axes>"
      ]
     },
     "metadata": {
      "needs_background": "light"
     },
     "output_type": "display_data"
    }
   ],
   "source": [
    "plot_hyperparameter_tuning(jaccard_coeff4)"
   ]
  },
  {
   "cell_type": "code",
   "execution_count": 18,
   "metadata": {},
   "outputs": [
    {
     "name": "stdout",
     "output_type": "stream",
     "text": [
      "the mean jaccard's coefficient for hyperparameter value=5 is 0.6023484113615829\n",
      "the mean jaccard's coefficient for hyperparameter value=10 is 0.6701033875636467\n",
      "the mean jaccard's coefficient for hyperparameter value=16 is 0.6943224888955757\n",
      "the mean jaccard's coefficient for hyperparameter value=20 is 0.6995582986720221\n",
      "the mean jaccard's coefficient for hyperparameter value=25 is 0.7030235850011743\n",
      "the mean jaccard's coefficient for hyperparameter value=30 is 0.703806400434971\n"
     ]
    }
   ],
   "source": [
    "jaccard_coeff5={}\n",
    "resize_relation=2\n",
    "nb_samples=40\n",
    "seuil=4\n",
    "rayon=50\n",
    "\n",
    "for value in [5,10,16,20,25,30]:\n",
    "    coeff_moy=0\n",
    "    coeff={}\n",
    "    label=\"PETS2006\"\n",
    "    \n",
    "    #if label==\"PETS2006\":\n",
    "     #   resize_relation=2\n",
    "    #else:\n",
    "     #   resize_relation=1\n",
    "    \n",
    "    coeff[label]=[]\n",
    "    img=io.imread(input_data[label][0])#,as_gray=True)\n",
    "    img_shape=np.shape(img)\n",
    "    img=cv2.resize(img,(img_shape[1]//resize_relation,img_shape[0]//resize_relation))\n",
    "    background=initBackground(img,nb_samples)#,gray_scale=True)\n",
    "    for i in range(600,700):\n",
    "        input=input_data[label][i]\n",
    "        groundtruth=io.imread(groundTruth_data[label][i])\n",
    "        groundtruth[groundtruth>=50]=255\n",
    "        img=io.imread(input)#,as_gray=True)\n",
    "        img_shape=np.shape(img)\n",
    "        img=cv2.resize(img,(img_shape[1]//resize_relation,img_shape[0]//resize_relation))\n",
    "        groundtruth=cv2.resize(groundtruth,(img_shape[1]//resize_relation,img_shape[0]//resize_relation))\n",
    "        #res=segmentationViBe2(img,background,0.15,2,nb_samples)\n",
    "        res=segmentationViBe4(img,background,rayon,seuil,nb_samples,value)\n",
    "    for i in range(700,731):\n",
    "        input=input_data[label][i]\n",
    "        groundtruth=io.imread(groundTruth_data[label][i])\n",
    "        groundtruth[groundtruth>=50]=255\n",
    "        img=io.imread(input)#,as_gray=True)\n",
    "        img_shape=np.shape(img)\n",
    "        img=cv2.resize(img,(img_shape[1]//resize_relation,img_shape[0]//resize_relation))\n",
    "        groundtruth=cv2.resize(groundtruth,(img_shape[1]//resize_relation,img_shape[0]//resize_relation))\n",
    "        #res=segmentationViBe2(img,background,0.15,2,nb_samples)\n",
    "        res=segmentationViBe4(img,background,rayon,seuil,nb_samples,value)\n",
    "        coeff[label].append(jaccardCoeff(res,groundtruth))\n",
    "    jaccard_coeff5[value]=np.mean(coeff[label])\n",
    "    print(\"the mean jaccard's coefficient for hyperparameter value=\"+str(value)+\" is \"+str(jaccard_coeff5[value]))"
   ]
  },
  {
   "cell_type": "code",
   "execution_count": 20,
   "metadata": {},
   "outputs": [
    {
     "name": "stdout",
     "output_type": "stream",
     "text": [
      "the mean jaccard's coefficient for hyperparameter value=35 is 0.7029790797834545\n",
      "the mean jaccard's coefficient for hyperparameter value=40 is 0.7031447329226498\n",
      "the mean jaccard's coefficient for hyperparameter value=45 is 0.7022897110752099\n",
      "the mean jaccard's coefficient for hyperparameter value=50 is 0.6998394234515632\n"
     ]
    }
   ],
   "source": [
    "for value in [35,40,45,50]:\n",
    "    coeff_moy=0\n",
    "    coeff={}\n",
    "    label=\"PETS2006\"\n",
    "    \n",
    "    #if label==\"PETS2006\":\n",
    "     #   resize_relation=2\n",
    "    #else:\n",
    "     #   resize_relation=1\n",
    "    \n",
    "    coeff[label]=[]\n",
    "    img=io.imread(input_data[label][0])#,as_gray=True)\n",
    "    img_shape=np.shape(img)\n",
    "    img=cv2.resize(img,(img_shape[1]//resize_relation,img_shape[0]//resize_relation))\n",
    "    background=initBackground(img,nb_samples)#,gray_scale=True)\n",
    "    for i in range(600,700):\n",
    "        input=input_data[label][i]\n",
    "        groundtruth=io.imread(groundTruth_data[label][i])\n",
    "        groundtruth[groundtruth>=50]=255\n",
    "        img=io.imread(input)#,as_gray=True)\n",
    "        img_shape=np.shape(img)\n",
    "        img=cv2.resize(img,(img_shape[1]//resize_relation,img_shape[0]//resize_relation))\n",
    "        groundtruth=cv2.resize(groundtruth,(img_shape[1]//resize_relation,img_shape[0]//resize_relation))\n",
    "        #res=segmentationViBe2(img,background,0.15,2,nb_samples)\n",
    "        res=segmentationViBe4(img,background,rayon,seuil,nb_samples,value)\n",
    "    for i in range(700,731):\n",
    "        input=input_data[label][i]\n",
    "        groundtruth=io.imread(groundTruth_data[label][i])\n",
    "        groundtruth[groundtruth>=50]=255\n",
    "        img=io.imread(input)#,as_gray=True)\n",
    "        img_shape=np.shape(img)\n",
    "        img=cv2.resize(img,(img_shape[1]//resize_relation,img_shape[0]//resize_relation))\n",
    "        groundtruth=cv2.resize(groundtruth,(img_shape[1]//resize_relation,img_shape[0]//resize_relation))\n",
    "        #res=segmentationViBe2(img,background,0.15,2,nb_samples)\n",
    "        res=segmentationViBe4(img,background,rayon,seuil,nb_samples,value)\n",
    "        coeff[label].append(jaccardCoeff(res,groundtruth))\n",
    "    jaccard_coeff5[value]=np.mean(coeff[label])\n",
    "    print(\"the mean jaccard's coefficient for hyperparameter value=\"+str(value)+\" is \"+str(jaccard_coeff5[value]))"
   ]
  },
  {
   "cell_type": "code",
   "execution_count": 21,
   "metadata": {},
   "outputs": [
    {
     "name": "stdout",
     "output_type": "stream",
     "text": [
      "On obtient l'indice de Jaccard maximal: 0.703806400434971 pour les valeurs d'hyperparamètre suivantes:\n",
      "[30]\n"
     ]
    },
    {
     "data": {
      "image/png": "[encoded data removed]",
      "text/plain": [
       "<Figure size 432x288 with 1 Axes>"
      ]
     },
     "metadata": {
      "needs_background": "light"
     },
     "output_type": "display_data"
    }
   ],
   "source": [
    "plot_hyperparameter_tuning(jaccard_coeff5)"
   ]
  },
  {
   "cell_type": "code",
   "execution_count": null,
   "metadata": {},
   "outputs": [],
   "source": [
    "for value in [50,55,60,65]:\n",
    "    coeff_moy=0\n",
    "    coeff={}\n",
    "    label=\"PETS2006\"\n",
    "    \n",
    "    #if label==\"PETS2006\":\n",
    "     #   resize_relation=2\n",
    "    #else:\n",
    "     #   resize_relation=1\n",
    "    \n",
    "    coeff[label]=[]\n",
    "    img=io.imread(input_data[label][0])#,as_gray=True)\n",
    "    img_shape=np.shape(img)\n",
    "    img=cv2.resize(img,(img_shape[1]//resize_relation,img_shape[0]//resize_relation))\n",
    "    background=initBackground(img,nb_samples)#,gray_scale=True)\n",
    "    for i in range(600,700):\n",
    "        input=input_data[label][i]\n",
    "        groundtruth=io.imread(groundTruth_data[label][i])\n",
    "        groundtruth[groundtruth>=50]=255\n",
    "        img=io.imread(input)#,as_gray=True)\n",
    "        img_shape=np.shape(img)\n",
    "        img=cv2.resize(img,(img_shape[1]//resize_relation,img_shape[0]//resize_relation))\n",
    "        groundtruth=cv2.resize(groundtruth,(img_shape[1]//resize_relation,img_shape[0]//resize_relation))\n",
    "        #res=segmentationViBe2(img,background,0.15,2,nb_samples)\n",
    "        res=segmentationViBe4(img,background,value,seuil,nb_samples,16)\n",
    "    for i in range(700,731):\n",
    "        input=input_data[label][i]\n",
    "        groundtruth=io.imread(groundTruth_data[label][i])\n",
    "        groundtruth[groundtruth>=50]=255\n",
    "        img=io.imread(input)#,as_gray=True)\n",
    "        img_shape=np.shape(img)\n",
    "        img=cv2.resize(img,(img_shape[1]//resize_relation,img_shape[0]//resize_relation))\n",
    "        groundtruth=cv2.resize(groundtruth,(img_shape[1]//resize_relation,img_shape[0]//resize_relation))\n",
    "        #res=segmentationViBe2(img,background,0.15,2,nb_samples)\n",
    "        res=segmentationViBe4(img,background,value,seuil,nb_samples,16)\n",
    "        coeff[label].append(jaccardCoeff(res,groundtruth))\n",
    "    jaccard_coeff5[value]=np.mean(coeff[label])\n",
    "    print(\"the mean jaccard's coefficient for hyperparameter value=\"+str(value)+\" is \"+str(jaccard_coeff5[value]))"
   ]
  },
  {
   "cell_type": "code",
   "execution_count": 103,
   "metadata": {},
   "outputs": [
    {
     "name": "stdout",
     "output_type": "stream",
     "text": [
      "On obtient l'indice de Jaccard maximal: 0.6898886415035864 pour les valeurs d'hyperparamètre suivantes:\n",
      "[45]\n"
     ]
    },
    {
     "data": {
      "image/png": "[encoded data removed]",
      "text/plain": [
       "<Figure size 432x288 with 1 Axes>"
      ]
     },
     "metadata": {
      "needs_background": "light"
     },
     "output_type": "display_data"
    }
   ],
   "source": [
    "plot_hyperparameter_tuning(jaccard_coeff5)"
   ]
  },
  {
   "cell_type": "code",
   "execution_count": null,
   "metadata": {},
   "outputs": [],
   "source": [
    "precision,recall,f1_score={},{},{}\n",
    "resize_relation=2\n",
    "\n",
    "for value in [15,20,25,30,35,40]:\n",
    "    f1_score_moy=0\n",
    "    for label in labels:\n",
    "        if label==\"PETS2006\":\n",
    "            resize_relation=2\n",
    "        else:\n",
    "            resize_relation=1\n",
    "        precision[label]=[]\n",
    "        recall[label]=[]\n",
    "        f1_score[label]=[]\n",
    "        img=io.imread(input_data[label][0])#,as_gray=True)\n",
    "        img_shape=np.shape(img)\n",
    "        img=cv2.resize(img,(img_shape[1]//resize_relation,img_shape[0]//resize_relation))\n",
    "        background=initBackground(img,nb_samples)#,gray_scale=True)\n",
    "        for i in range(600,631):\n",
    "            input=input_data[label][i]\n",
    "            groundtruth=io.imread(groundTruth_data[label][i])\n",
    "            groundtruth[groundtruth>=50]=255\n",
    "            img=io.imread(input)#,as_gray=True)\n",
    "            img_shape=np.shape(img)\n",
    "            img=cv2.resize(img,(img_shape[1]//resize_relation,img_shape[0]//resize_relation))\n",
    "            groundtruth=cv2.resize(groundtruth,(img_shape[1]//resize_relation,img_shape[0]//resize_relation))\n",
    "            #res=segmentationViBe2(img,background,0.15,2,nb_samples)\n",
    "            res=segmentationViBe4(img,background,value,2,nb_samples,16)\n",
    "            p,r,f=classifactionMetrics(res,groundtruth)\n",
    "            precision[label].append(p)\n",
    "            recall[label].append(r)\n",
    "            f1_score[label].append(f)\n",
    "        #print(\"the mean PCC for label \"+label+\": \"+str(np.mean(PCCs[label])))\n",
    "        f1_score_moy+=np.mean(f1_score[label])\n",
    "    f1_score_moy=f1_score_moy/len(labels)\n",
    "    res[value]=f1_score_moy\n",
    "    print(\"the mean f1 score for hyperparameter value=\"+str(value)+\" is \"+str(f1_score_moy))\n",
    "        #plt.imshow(img,cmap='gray')\n",
    "        #plt.show()\n",
    "        #plt.imshow(res,cmap='gray')\n",
    "        #plt.show()"
   ]
  },
  {
   "cell_type": "code",
   "execution_count": 39,
   "metadata": {},
   "outputs": [
    {
     "name": "stdout",
     "output_type": "stream",
     "text": [
      "0.9689322916666666\n",
      "0.9608912037037036\n",
      "0.9611910095579451\n",
      "0.98269994835225\n"
     ]
    },
    {
     "data": {
      "text/plain": [
       "0.9684286133201414"
      ]
     },
     "execution_count": 39,
     "metadata": {},
     "output_type": "execute_result"
    }
   ],
   "source": [
    "moy=0\n",
    "for label in labels:\n",
    "    moy+=np.mean(PCCs[label])\n",
    "    print(np.mean(PCCs[label]))\n",
    "moy=moy/len(labels)\n",
    "moy"
   ]
  },
  {
   "attachments": {},
   "cell_type": "markdown",
   "metadata": {},
   "source": [
    "#### Optimisation sans ombre"
   ]
  },
  {
   "cell_type": "code",
   "execution_count": 147,
   "metadata": {},
   "outputs": [
    {
     "name": "stdout",
     "output_type": "stream",
     "text": [
      "the mean jaccard's coefficient for hyperparameter value=5 is 0.35667659585392403\n",
      "the mean jaccard's coefficient for hyperparameter value=10 is 0.4728560714958886\n",
      "the mean jaccard's coefficient for hyperparameter value=15 is 0.45824325585135034\n",
      "the mean jaccard's coefficient for hyperparameter value=20 is 0.45541965064525136\n",
      "the mean jaccard's coefficient for hyperparameter value=25 is 0.44743497763645196\n",
      "the mean jaccard's coefficient for hyperparameter value=30 is 0.440264700619991\n",
      "the mean jaccard's coefficient for hyperparameter value=35 is 0.4420953036418099\n",
      "the mean jaccard's coefficient for hyperparameter value=40 is 0.4391429327578438\n",
      "the mean jaccard's coefficient for hyperparameter value=45 is 0.44028657439300145\n",
      "the mean jaccard's coefficient for hyperparameter value=50 is 0.43561207327353946\n"
     ]
    }
   ],
   "source": [
    "jaccard_coeff2={}\n",
    "resize_relation=2\n",
    "\n",
    "for nb_samples in [5,10,15,20,25,30,35,40,45,50]:\n",
    "    coeff_moy=0\n",
    "    coeff={}\n",
    "    label=\"PETS2006\"\n",
    "    \n",
    "    #if label==\"PETS2006\":\n",
    "     #   resize_relation=2\n",
    "    #else:\n",
    "     #   resize_relation=1\n",
    "    \n",
    "    coeff[label]=[]\n",
    "    img=io.imread(input_data[label][0])#,as_gray=True)\n",
    "    img_shape=np.shape(img)\n",
    "    img=cv2.resize(img,(img_shape[1]//resize_relation,img_shape[0]//resize_relation))\n",
    "    background=initBackground(img,nb_samples)#,gray_scale=True)\n",
    "    for i in range(500,600):\n",
    "        input=input_data[label][i]\n",
    "        groundtruth=io.imread(groundTruth_data[label][i])\n",
    "        #groundtruth[groundtruth<=170]=255\n",
    "        groundtruth[groundtruth>=50]=255\n",
    "        img=io.imread(input)#,as_gray=True)\n",
    "        img_shape=np.shape(img)\n",
    "        img=cv2.resize(img,(img_shape[1]//resize_relation,img_shape[0]//resize_relation))\n",
    "        groundtruth=cv2.resize(groundtruth,(img_shape[1]//resize_relation,img_shape[0]//resize_relation))\n",
    "        #res=segmentationViBe2(img,background,0.15,2,nb_samples)\n",
    "        res=segmentationViBe4(img,background,20,2,nb_samples,16)\n",
    "    for i in range(600,645):\n",
    "        input=input_data[label][i]\n",
    "        groundtruth=io.imread(groundTruth_data[label][i])\n",
    "        groundtruth[groundtruth>=50]=255\n",
    "        img=io.imread(input)#,as_gray=True)\n",
    "        img_shape=np.shape(img)\n",
    "        img=cv2.resize(img,(img_shape[1]//resize_relation,img_shape[0]//resize_relation))\n",
    "        groundtruth=cv2.resize(groundtruth,(img_shape[1]//resize_relation,img_shape[0]//resize_relation))\n",
    "        #res=segmentationViBe2(img,background,0.15,2,nb_samples)\n",
    "        res=segmentationViBe4(img,background,20,2,nb_samples,16)\n",
    "        coeff[label].append(jaccardCoeff(res,groundtruth))\n",
    "    jaccard_coeff2[nb_samples]=np.mean(coeff[label])\n",
    "    print(\"the mean jaccard's coefficient for hyperparameter value=\"+str(nb_samples)+\" is \"+str(jaccard_coeff2[nb_samples]))"
   ]
  },
  {
   "cell_type": "code",
   "execution_count": 149,
   "metadata": {},
   "outputs": [
    {
     "name": "stdout",
     "output_type": "stream",
     "text": [
      "On obtient l'indice de Jaccard maximal: 0.4728560714958886 pour les valeurs d'hyperparamètre suivantes:\n",
      "[10]\n"
     ]
    },
    {
     "data": {
      "image/png": "[encoded data removed]",
      "text/plain": [
       "<Figure size 432x288 with 1 Axes>"
      ]
     },
     "metadata": {
      "needs_background": "light"
     },
     "output_type": "display_data"
    }
   ],
   "source": [
    "plot_hyperparameter_tuning(jaccard_coeff2,x_axis_title=\"Nombre d'échantillons\")"
   ]
  },
  {
   "cell_type": "code",
   "execution_count": 150,
   "metadata": {},
   "outputs": [
    {
     "name": "stdout",
     "output_type": "stream",
     "text": [
      "the mean jaccard's coefficient for hyperparameter value=1 is 0.5248073031969116\n",
      "the mean jaccard's coefficient for hyperparameter value=2 is 0.6071763506344812\n",
      "the mean jaccard's coefficient for hyperparameter value=4 is 0.5829744870632266\n",
      "the mean jaccard's coefficient for hyperparameter value=6 is 0.45902610509345027\n",
      "the mean jaccard's coefficient for hyperparameter value=8 is 0.300788074979762\n",
      "the mean jaccard's coefficient for hyperparameter value=10 is 0.19844478525241868\n",
      "the mean jaccard's coefficient for hyperparameter value=12 is 0.14331462833002448\n",
      "the mean jaccard's coefficient for hyperparameter value=15 is 0.09491830772214857\n"
     ]
    }
   ],
   "source": [
    "jaccard_coeff3={}\n",
    "resize_relation=2\n",
    "nb_samples=20\n",
    "\n",
    "for value in [1,2,4,6,8,10,12,15]:\n",
    "    coeff_moy=0\n",
    "    coeff={}\n",
    "    label=\"PETS2006\"\n",
    "    \n",
    "    #if label==\"PETS2006\":\n",
    "     #   resize_relation=2\n",
    "    #else:\n",
    "     #   resize_relation=1\n",
    "    \n",
    "    coeff[label]=[]\n",
    "    img=io.imread(input_data[label][0])#,as_gray=True)\n",
    "    img_shape=np.shape(img)\n",
    "    img=cv2.resize(img,(img_shape[1]//resize_relation,img_shape[0]//resize_relation))\n",
    "    background=initBackground(img,nb_samples)#,gray_scale=True)\n",
    "    for i in range(600,700):\n",
    "        input=input_data[label][i]\n",
    "        groundtruth=io.imread(groundTruth_data[label][i])\n",
    "        groundtruth[groundtruth>=50]=255\n",
    "        img=io.imread(input)#,as_gray=True)\n",
    "        img_shape=np.shape(img)\n",
    "        img=cv2.resize(img,(img_shape[1]//resize_relation,img_shape[0]//resize_relation))\n",
    "        groundtruth=cv2.resize(groundtruth,(img_shape[1]//resize_relation,img_shape[0]//resize_relation))\n",
    "        #res=segmentationViBe2(img,background,0.15,2,nb_samples)\n",
    "        res=segmentationViBe4(img,background,20,value,nb_samples,16)\n",
    "    for i in range(700,731):\n",
    "        input=input_data[label][i]\n",
    "        groundtruth=io.imread(groundTruth_data[label][i])\n",
    "        groundtruth[groundtruth>=50]=255\n",
    "        img=io.imread(input)#,as_gray=True)\n",
    "        img_shape=np.shape(img)\n",
    "        img=cv2.resize(img,(img_shape[1]//resize_relation,img_shape[0]//resize_relation))\n",
    "        groundtruth=cv2.resize(groundtruth,(img_shape[1]//resize_relation,img_shape[0]//resize_relation))\n",
    "        #res=segmentationViBe2(img,background,0.15,2,nb_samples)\n",
    "        res=segmentationViBe4(img,background,20,value,nb_samples,16)\n",
    "        coeff[label].append(jaccardCoeff(res,groundtruth))\n",
    "    jaccard_coeff3[value]=np.mean(coeff[label])\n",
    "    print(\"the mean jaccard's coefficient for hyperparameter value=\"+str(value)+\" is \"+str(jaccard_coeff3[value]))"
   ]
  },
  {
   "cell_type": "code",
   "execution_count": 151,
   "metadata": {},
   "outputs": [
    {
     "name": "stdout",
     "output_type": "stream",
     "text": [
      "On obtient l'indice de Jaccard maximal: 0.6071763506344812 pour les valeurs d'hyperparamètre suivantes:\n",
      "[2]\n"
     ]
    },
    {
     "data": {
      "image/png": "[encoded data removed]",
      "text/plain": [
       "<Figure size 432x288 with 1 Axes>"
      ]
     },
     "metadata": {
      "needs_background": "light"
     },
     "output_type": "display_data"
    }
   ],
   "source": [
    "plot_hyperparameter_tuning(jaccard_coeff3,x_axis_title=\"seuil\")"
   ]
  },
  {
   "cell_type": "code",
   "execution_count": 155,
   "metadata": {},
   "outputs": [
    {
     "name": "stdout",
     "output_type": "stream",
     "text": [
      "the mean jaccard's coefficient for hyperparameter value=10 is 0.5149122301364366\n",
      "the mean jaccard's coefficient for hyperparameter value=20 is 0.6071043155226605\n",
      "the mean jaccard's coefficient for hyperparameter value=25 is 0.6116813725316831\n",
      "the mean jaccard's coefficient for hyperparameter value=30 is 0.6126106747688269\n",
      "the mean jaccard's coefficient for hyperparameter value=35 is 0.6246559461639334\n",
      "the mean jaccard's coefficient for hyperparameter value=40 is 0.6291247887164313\n",
      "the mean jaccard's coefficient for hyperparameter value=45 is 0.6285416316294004\n"
     ]
    }
   ],
   "source": [
    "jaccard_coeff4={}\n",
    "resize_relation=2\n",
    "nb_samples=20\n",
    "seuil=2\n",
    "\n",
    "for value in [10,20,25,30,35,40,45]:\n",
    "    coeff_moy=0\n",
    "    coeff={}\n",
    "    label=\"PETS2006\"\n",
    "    \n",
    "    #if label==\"PETS2006\":\n",
    "     #   resize_relation=2\n",
    "    #else:\n",
    "     #   resize_relation=1\n",
    "    \n",
    "    coeff[label]=[]\n",
    "    img=io.imread(input_data[label][0])#,as_gray=True)\n",
    "    img_shape=np.shape(img)\n",
    "    img=cv2.resize(img,(img_shape[1]//resize_relation,img_shape[0]//resize_relation))\n",
    "    background=initBackground(img,nb_samples)#,gray_scale=True)\n",
    "    for i in range(600,700):\n",
    "        input=input_data[label][i]\n",
    "        groundtruth=io.imread(groundTruth_data[label][i])\n",
    "        groundtruth[groundtruth>=50]=255\n",
    "        img=io.imread(input)#,as_gray=True)\n",
    "        img_shape=np.shape(img)\n",
    "        img=cv2.resize(img,(img_shape[1]//resize_relation,img_shape[0]//resize_relation))\n",
    "        groundtruth=cv2.resize(groundtruth,(img_shape[1]//resize_relation,img_shape[0]//resize_relation))\n",
    "        #res=segmentationViBe2(img,background,0.15,2,nb_samples)\n",
    "        res=segmentationViBe4(img,background,value,seuil,nb_samples,16)\n",
    "    for i in range(700,731):\n",
    "        input=input_data[label][i]\n",
    "        groundtruth=io.imread(groundTruth_data[label][i])\n",
    "        groundtruth[groundtruth>=50]=255\n",
    "        img=io.imread(input)#,as_gray=True)\n",
    "        img_shape=np.shape(img)\n",
    "        img=cv2.resize(img,(img_shape[1]//resize_relation,img_shape[0]//resize_relation))\n",
    "        groundtruth=cv2.resize(groundtruth,(img_shape[1]//resize_relation,img_shape[0]//resize_relation))\n",
    "        #res=segmentationViBe2(img,background,0.15,2,nb_samples)\n",
    "        res=segmentationViBe4(img,background,value,seuil,nb_samples,16)\n",
    "        coeff[label].append(jaccardCoeff(res,groundtruth))\n",
    "    jaccard_coeff4[value]=np.mean(coeff[label])\n",
    "    print(\"the mean jaccard's coefficient for hyperparameter value=\"+str(value)+\" is \"+str(jaccard_coeff4[value]))"
   ]
  },
  {
   "cell_type": "code",
   "execution_count": 157,
   "metadata": {},
   "outputs": [
    {
     "name": "stdout",
     "output_type": "stream",
     "text": [
      "the mean jaccard's coefficient for hyperparameter value=50 is 0.6256908700920353\n",
      "the mean jaccard's coefficient for hyperparameter value=55 is 0.6165758495986414\n",
      "the mean jaccard's coefficient for hyperparameter value=60 is 0.614294917232224\n"
     ]
    }
   ],
   "source": [
    "for value in [50,55,60]:\n",
    "    coeff_moy=0\n",
    "    coeff={}\n",
    "    label=\"PETS2006\"\n",
    "    \n",
    "    #if label==\"PETS2006\":\n",
    "     #   resize_relation=2\n",
    "    #else:\n",
    "     #   resize_relation=1\n",
    "    \n",
    "    coeff[label]=[]\n",
    "    img=io.imread(input_data[label][0])#,as_gray=True)\n",
    "    img_shape=np.shape(img)\n",
    "    img=cv2.resize(img,(img_shape[1]//resize_relation,img_shape[0]//resize_relation))\n",
    "    background=initBackground(img,nb_samples)#,gray_scale=True)\n",
    "    for i in range(600,700):\n",
    "        input=input_data[label][i]\n",
    "        groundtruth=io.imread(groundTruth_data[label][i])\n",
    "        groundtruth[groundtruth>=50]=255\n",
    "        img=io.imread(input)#,as_gray=True)\n",
    "        img_shape=np.shape(img)\n",
    "        img=cv2.resize(img,(img_shape[1]//resize_relation,img_shape[0]//resize_relation))\n",
    "        groundtruth=cv2.resize(groundtruth,(img_shape[1]//resize_relation,img_shape[0]//resize_relation))\n",
    "        #res=segmentationViBe2(img,background,0.15,2,nb_samples)\n",
    "        res=segmentationViBe4(img,background,value,seuil,nb_samples,16)\n",
    "    for i in range(700,731):\n",
    "        input=input_data[label][i]\n",
    "        groundtruth=io.imread(groundTruth_data[label][i])\n",
    "        groundtruth[groundtruth>=50]=255\n",
    "        img=io.imread(input)#,as_gray=True)\n",
    "        img_shape=np.shape(img)\n",
    "        img=cv2.resize(img,(img_shape[1]//resize_relation,img_shape[0]//resize_relation))\n",
    "        groundtruth=cv2.resize(groundtruth,(img_shape[1]//resize_relation,img_shape[0]//resize_relation))\n",
    "        #res=segmentationViBe2(img,background,0.15,2,nb_samples)\n",
    "        res=segmentationViBe4(img,background,value,seuil,nb_samples,16)\n",
    "        coeff[label].append(jaccardCoeff(res,groundtruth))\n",
    "    jaccard_coeff4[value]=np.mean(coeff[label])\n",
    "    print(\"the mean jaccard's coefficient for hyperparameter value=\"+str(value)+\" is \"+str(jaccard_coeff4[value]))"
   ]
  },
  {
   "cell_type": "code",
   "execution_count": 158,
   "metadata": {},
   "outputs": [
    {
     "name": "stdout",
     "output_type": "stream",
     "text": [
      "On obtient l'indice de Jaccard maximal: 0.6291247887164313 pour les valeurs d'hyperparamètre suivantes:\n",
      "[40]\n"
     ]
    },
    {
     "data": {
      "image/png": "[encoded data removed]",
      "text/plain": [
       "<Figure size 432x288 with 1 Axes>"
      ]
     },
     "metadata": {
      "needs_background": "light"
     },
     "output_type": "display_data"
    }
   ],
   "source": [
    "plot_hyperparameter_tuning(jaccard_coeff4,x_axis_title=\"rayon\")"
   ]
  },
  {
   "cell_type": "code",
   "execution_count": 11,
   "metadata": {},
   "outputs": [
    {
     "name": "stdout",
     "output_type": "stream",
     "text": [
      "the mean jaccard's coefficient for hyperparameter value=5 is 0.47964402783652277\n",
      "the mean jaccard's coefficient for hyperparameter value=10 is 0.5786652787013982\n",
      "the mean jaccard's coefficient for hyperparameter value=16 is 0.6287220513357624\n",
      "the mean jaccard's coefficient for hyperparameter value=20 is 0.6427252501866111\n",
      "the mean jaccard's coefficient for hyperparameter value=30 is 0.6627136247976587\n"
     ]
    }
   ],
   "source": [
    "jaccard_coeff5={}\n",
    "resize_relation=2\n",
    "nb_samples=20\n",
    "seuil=2\n",
    "rayon=40\n",
    "\n",
    "for value in [5,10,16,20,30]:\n",
    "    coeff_moy=0\n",
    "    coeff={}\n",
    "    label=\"PETS2006\"\n",
    "    \n",
    "    #if label==\"PETS2006\":\n",
    "     #   resize_relation=2\n",
    "    #else:\n",
    "     #   resize_relation=1\n",
    "    \n",
    "    coeff[label]=[]\n",
    "    img=io.imread(input_data[label][0])#,as_gray=True)\n",
    "    img_shape=np.shape(img)\n",
    "    img=cv2.resize(img,(img_shape[1]//resize_relation,img_shape[0]//resize_relation))\n",
    "    background=initBackground(img,nb_samples)#,gray_scale=True)\n",
    "    for i in range(600,700):\n",
    "        input=input_data[label][i]\n",
    "        groundtruth=io.imread(groundTruth_data[label][i])\n",
    "        groundtruth[groundtruth>=50]=255\n",
    "        img=io.imread(input)#,as_gray=True)\n",
    "        img_shape=np.shape(img)\n",
    "        img=cv2.resize(img,(img_shape[1]//resize_relation,img_shape[0]//resize_relation))\n",
    "        groundtruth=cv2.resize(groundtruth,(img_shape[1]//resize_relation,img_shape[0]//resize_relation))\n",
    "        #res=segmentationViBe2(img,background,0.15,2,nb_samples)\n",
    "        res=segmentationViBe4(img,background,rayon,seuil,nb_samples,value)\n",
    "    for i in range(700,731):\n",
    "        input=input_data[label][i]\n",
    "        groundtruth=io.imread(groundTruth_data[label][i])\n",
    "        groundtruth[groundtruth>=50]=255\n",
    "        img=io.imread(input)#,as_gray=True)\n",
    "        img_shape=np.shape(img)\n",
    "        img=cv2.resize(img,(img_shape[1]//resize_relation,img_shape[0]//resize_relation))\n",
    "        groundtruth=cv2.resize(groundtruth,(img_shape[1]//resize_relation,img_shape[0]//resize_relation))\n",
    "        #res=segmentationViBe2(img,background,0.15,2,nb_samples)\n",
    "        res=segmentationViBe4(img,background,rayon,seuil,nb_samples,value)\n",
    "        coeff[label].append(jaccardCoeff(res,groundtruth))\n",
    "    jaccard_coeff5[value]=np.mean(coeff[label])\n",
    "    print(\"the mean jaccard's coefficient for hyperparameter value=\"+str(value)+\" is \"+str(jaccard_coeff5[value]))"
   ]
  },
  {
   "cell_type": "code",
   "execution_count": 12,
   "metadata": {},
   "outputs": [
    {
     "name": "stdout",
     "output_type": "stream",
     "text": [
      "the mean jaccard's coefficient for hyperparameter value=35 is 0.6673243035481728\n",
      "the mean jaccard's coefficient for hyperparameter value=40 is 0.673089103417352\n",
      "the mean jaccard's coefficient for hyperparameter value=45 is 0.67445817664306\n",
      "the mean jaccard's coefficient for hyperparameter value=50 is 0.6743845983549261\n",
      "the mean jaccard's coefficient for hyperparameter value=55 is 0.6749294483068818\n"
     ]
    }
   ],
   "source": [
    "for value in [35,40,45,50,55]:\n",
    "    coeff_moy=0\n",
    "    coeff={}\n",
    "    label=\"PETS2006\"\n",
    "    \n",
    "    #if label==\"PETS2006\":\n",
    "     #   resize_relation=2\n",
    "    #else:\n",
    "     #   resize_relation=1\n",
    "    \n",
    "    coeff[label]=[]\n",
    "    img=io.imread(input_data[label][0])#,as_gray=True)\n",
    "    img_shape=np.shape(img)\n",
    "    img=cv2.resize(img,(img_shape[1]//resize_relation,img_shape[0]//resize_relation))\n",
    "    background=initBackground(img,nb_samples)#,gray_scale=True)\n",
    "    for i in range(600,700):\n",
    "        input=input_data[label][i]\n",
    "        groundtruth=io.imread(groundTruth_data[label][i])\n",
    "        groundtruth[groundtruth>=50]=255\n",
    "        img=io.imread(input)#,as_gray=True)\n",
    "        img_shape=np.shape(img)\n",
    "        img=cv2.resize(img,(img_shape[1]//resize_relation,img_shape[0]//resize_relation))\n",
    "        groundtruth=cv2.resize(groundtruth,(img_shape[1]//resize_relation,img_shape[0]//resize_relation))\n",
    "        #res=segmentationViBe2(img,background,0.15,2,nb_samples)\n",
    "        res=segmentationViBe4(img,background,rayon,seuil,nb_samples,value)\n",
    "    for i in range(700,731):\n",
    "        input=input_data[label][i]\n",
    "        groundtruth=io.imread(groundTruth_data[label][i])\n",
    "        groundtruth[groundtruth>=50]=255\n",
    "        img=io.imread(input)#,as_gray=True)\n",
    "        img_shape=np.shape(img)\n",
    "        img=cv2.resize(img,(img_shape[1]//resize_relation,img_shape[0]//resize_relation))\n",
    "        groundtruth=cv2.resize(groundtruth,(img_shape[1]//resize_relation,img_shape[0]//resize_relation))\n",
    "        #res=segmentationViBe2(img,background,0.15,2,nb_samples)\n",
    "        res=segmentationViBe4(img,background,rayon,seuil,nb_samples,value)\n",
    "        coeff[label].append(jaccardCoeff(res,groundtruth))\n",
    "    jaccard_coeff5[value]=np.mean(coeff[label])\n",
    "    print(\"the mean jaccard's coefficient for hyperparameter value=\"+str(value)+\" is \"+str(jaccard_coeff5[value]))"
   ]
  },
  {
   "cell_type": "code",
   "execution_count": 14,
   "metadata": {},
   "outputs": [
    {
     "name": "stdout",
     "output_type": "stream",
     "text": [
      "the mean jaccard's coefficient for hyperparameter value=60 is 0.6749852520409777\n",
      "the mean jaccard's coefficient for hyperparameter value=65 is 0.6742055875339468\n",
      "the mean jaccard's coefficient for hyperparameter value=70 is 0.674135606128593\n",
      "the mean jaccard's coefficient for hyperparameter value=75 is 0.6747454907736478\n"
     ]
    }
   ],
   "source": [
    "for value in [60,65,70,75]:\n",
    "    coeff_moy=0\n",
    "    coeff={}\n",
    "    label=\"PETS2006\"\n",
    "    \n",
    "    #if label==\"PETS2006\":\n",
    "     #   resize_relation=2\n",
    "    #else:\n",
    "     #   resize_relation=1\n",
    "    \n",
    "    coeff[label]=[]\n",
    "    img=io.imread(input_data[label][0])#,as_gray=True)\n",
    "    img_shape=np.shape(img)\n",
    "    img=cv2.resize(img,(img_shape[1]//resize_relation,img_shape[0]//resize_relation))\n",
    "    background=initBackground(img,nb_samples)#,gray_scale=True)\n",
    "    for i in range(600,700):\n",
    "        input=input_data[label][i]\n",
    "        groundtruth=io.imread(groundTruth_data[label][i])\n",
    "        groundtruth[groundtruth>=50]=255\n",
    "        img=io.imread(input)#,as_gray=True)\n",
    "        img_shape=np.shape(img)\n",
    "        img=cv2.resize(img,(img_shape[1]//resize_relation,img_shape[0]//resize_relation))\n",
    "        groundtruth=cv2.resize(groundtruth,(img_shape[1]//resize_relation,img_shape[0]//resize_relation))\n",
    "        #res=segmentationViBe2(img,background,0.15,2,nb_samples)\n",
    "        res=segmentationViBe4(img,background,rayon,seuil,nb_samples,value)\n",
    "    for i in range(700,731):\n",
    "        input=input_data[label][i]\n",
    "        groundtruth=io.imread(groundTruth_data[label][i])\n",
    "        groundtruth[groundtruth>=50]=255\n",
    "        img=io.imread(input)#,as_gray=True)\n",
    "        img_shape=np.shape(img)\n",
    "        img=cv2.resize(img,(img_shape[1]//resize_relation,img_shape[0]//resize_relation))\n",
    "        groundtruth=cv2.resize(groundtruth,(img_shape[1]//resize_relation,img_shape[0]//resize_relation))\n",
    "        #res=segmentationViBe2(img,background,0.15,2,nb_samples)\n",
    "        res=segmentationViBe4(img,background,rayon,seuil,nb_samples,value)\n",
    "        coeff[label].append(jaccardCoeff(res,groundtruth))\n",
    "    jaccard_coeff5[value]=np.mean(coeff[label])\n",
    "    print(\"the mean jaccard's coefficient for hyperparameter value=\"+str(value)+\" is \"+str(jaccard_coeff5[value]))"
   ]
  },
  {
   "cell_type": "code",
   "execution_count": 15,
   "metadata": {},
   "outputs": [
    {
     "name": "stdout",
     "output_type": "stream",
     "text": [
      "On obtient l'indice de Jaccard maximal: 0.6749852520409777 pour les valeurs d'hyperparamètre suivantes:\n",
      "[60]\n"
     ]
    },
    {
     "data": {
      "image/png": "[encoded data removed]",
      "text/plain": [
       "<Figure size 432x288 with 1 Axes>"
      ]
     },
     "metadata": {
      "needs_background": "light"
     },
     "output_type": "display_data"
    }
   ],
   "source": [
    "plot_hyperparameter_tuning(jaccard_coeff5)"
   ]
  },
  {
   "attachments": {},
   "cell_type": "markdown",
   "metadata": {},
   "source": [
    "#### Obtention des résultats"
   ]
  },
  {
   "cell_type": "code",
   "execution_count": 35,
   "metadata": {},
   "outputs": [],
   "source": [
    "import cv2\n",
    "resize_relation=1\n",
    "label=\"highway\"\n",
    "\n",
    "img=io.imread(input_data[label][0])#,as_gray=True)\n",
    "img_shape=np.shape(img)\n",
    "img=cv2.resize(img,(img_shape[1]//resize_relation,img_shape[0]//resize_relation))\n",
    "nb_samples=40\n",
    "background=initBackground(img,nb_samples)#,gray_scale=True)\n",
    "for input in input_data[label]:\n",
    "    img=io.imread(input)#,as_gray=True)\n",
    "    img_shape=np.shape(img)\n",
    "    img=cv2.resize(img,(img_shape[1]//resize_relation,img_shape[0]//resize_relation))\n",
    "    res=segmentationViBe4(img,background,50,4,nb_samples,30)\n",
    "    Image.fromarray(res).convert('L').save(input.replace(\"input\",\"output_vibe\").replace(\"in0\",\"out0\"),format=\"PNG\")\n",
    "    #plt.imshow(img,cmap='gray')\n",
    "    #plt.show()\n"
   ]
  },
  {
   "cell_type": "code",
   "execution_count": 28,
   "metadata": {},
   "outputs": [],
   "source": [
    "import cv2\n",
    "resize_relation=1\n",
    "label=\"highway\"\n",
    "\n",
    "img=io.imread(input_data[label][0])#,as_gray=True)\n",
    "img_shape=np.shape(img)\n",
    "img=cv2.resize(img,(img_shape[1]//resize_relation,img_shape[0]//resize_relation))\n",
    "nb_samples=20\n",
    "background=initBackground(img,nb_samples)#,gray_scale=True)\n",
    "for input in input_data[label]:\n",
    "    img=io.imread(input)#,as_gray=True)\n",
    "    img_shape=np.shape(img)\n",
    "    img=cv2.resize(img,(img_shape[1]//resize_relation,img_shape[0]//resize_relation))\n",
    "    res=segmentationViBe4(img,background,20,2,nb_samples,16)\n",
    "    Image.fromarray(res).convert('L').save(input.replace(\"input\",\"output_vibe2\").replace(\"in0\",\"out0\"),format=\"PNG\")\n",
    "    #plt.imshow(img,cmap='gray')\n",
    "    #plt.show()\n"
   ]
  },
  {
   "cell_type": "code",
   "execution_count": 63,
   "metadata": {},
   "outputs": [],
   "source": [
    "import cv2\n",
    "resize_relation=1\n",
    "label=\"pedestrians\"\n",
    "\n",
    "img=io.imread(input_data[label][0])#,as_gray=True)\n",
    "img_shape=np.shape(img)\n",
    "img=cv2.resize(img,(img_shape[1]//resize_relation,img_shape[0]//resize_relation))\n",
    "nb_samples=40\n",
    "background=initBackground(img,nb_samples)#,gray_scale=True)\n",
    "for input in input_data[label]:\n",
    "    img=io.imread(input)#,as_gray=True)\n",
    "    img_shape=np.shape(img)\n",
    "    img=cv2.resize(img,(img_shape[1]//resize_relation,img_shape[0]//resize_relation))\n",
    "    res=segmentationViBe4(img,background,50,4,nb_samples,30)\n",
    "    Image.fromarray(res).convert('L').save(input.replace(\"input\",\"output_vibe\").replace(\"in0\",\"out0\"),format=\"PNG\")\n",
    "    #plt.imshow(img,cmap='gray')\n",
    "    #plt.show()\n"
   ]
  },
  {
   "cell_type": "code",
   "execution_count": 11,
   "metadata": {},
   "outputs": [],
   "source": [
    "import cv2\n",
    "resize_relation=1\n",
    "label=\"pedestrians\"\n",
    "\n",
    "img=io.imread(input_data[label][0])#,as_gray=True)\n",
    "img_shape=np.shape(img)\n",
    "img=cv2.resize(img,(img_shape[1]//resize_relation,img_shape[0]//resize_relation))\n",
    "nb_samples=20\n",
    "background=initBackground(img,nb_samples)#,gray_scale=True)\n",
    "for input in input_data[label]:\n",
    "    img=io.imread(input)#,as_gray=True)\n",
    "    img_shape=np.shape(img)\n",
    "    img=cv2.resize(img,(img_shape[1]//resize_relation,img_shape[0]//resize_relation))\n",
    "    res=segmentationViBe4(img,background,20,2,nb_samples,16)\n",
    "    Image.fromarray(res).convert('L').save(input.replace(\"input\",\"output_vibe2\").replace(\"in0\",\"out0\"),format=\"PNG\")\n",
    "    #plt.imshow(img,cmap='gray')\n",
    "    #plt.show()\n"
   ]
  },
  {
   "cell_type": "code",
   "execution_count": 18,
   "metadata": {},
   "outputs": [],
   "source": [
    "import cv2\n",
    "resize_relation=1\n",
    "label=\"office\"\n",
    "\n",
    "img=io.imread(input_data[label][0])#,as_gray=True)\n",
    "img_shape=np.shape(img)\n",
    "img=cv2.resize(img,(img_shape[1]//resize_relation,img_shape[0]//resize_relation))\n",
    "nb_samples=40\n",
    "background=initBackground(img,nb_samples)#,gray_scale=True)\n",
    "for input in input_data[label]:\n",
    "    img=io.imread(input)#,as_gray=True)\n",
    "    img_shape=np.shape(img)\n",
    "    img=cv2.resize(img,(img_shape[1]//resize_relation,img_shape[0]//resize_relation))\n",
    "    res=segmentationViBe4(img,background,50,4,nb_samples,30)\n",
    "    Image.fromarray(res).convert('L').save(input.replace(\"input\",\"output_vibe\").replace(\"in0\",\"out0\"),format=\"PNG\")\n",
    "    #plt.imshow(img,cmap='gray')\n",
    "    #plt.show()\n"
   ]
  },
  {
   "cell_type": "code",
   "execution_count": 41,
   "metadata": {},
   "outputs": [],
   "source": [
    "import cv2\n",
    "resize_relation=1\n",
    "label=\"office\"\n",
    "\n",
    "img=io.imread(input_data[label][0])#,as_gray=True)\n",
    "img_shape=np.shape(img)\n",
    "img=cv2.resize(img,(img_shape[1]//resize_relation,img_shape[0]//resize_relation))\n",
    "nb_samples=20\n",
    "background=initBackground(img,nb_samples)#,gray_scale=True)\n",
    "for input in input_data[label]:\n",
    "    img=io.imread(input)#,as_gray=True)\n",
    "    img_shape=np.shape(img)\n",
    "    img=cv2.resize(img,(img_shape[1]//resize_relation,img_shape[0]//resize_relation))\n",
    "    res=segmentationViBe4(img,background,20,2,nb_samples,16)\n",
    "    Image.fromarray(res).convert('L').save(input.replace(\"input\",\"output_vibe2\").replace(\"in0\",\"out0\"),format=\"PNG\")\n",
    "    #plt.imshow(img,cmap='gray')\n",
    "    #plt.show()\n"
   ]
  },
  {
   "cell_type": "code",
   "execution_count": 16,
   "metadata": {},
   "outputs": [],
   "source": [
    "import cv2\n",
    "resize_relation=1\n",
    "label=\"PETS2006\"\n",
    "\n",
    "img=io.imread(input_data[label][0])#,as_gray=True)\n",
    "img_shape=np.shape(img)\n",
    "img=cv2.resize(img,(img_shape[1]//resize_relation,img_shape[0]//resize_relation))\n",
    "nb_samples=40\n",
    "background=initBackground(img,nb_samples)#,gray_scale=True)\n",
    "for input in input_data[label]:\n",
    "    img=io.imread(input)#,as_gray=True)\n",
    "    img_shape=np.shape(img)\n",
    "    img=cv2.resize(img,(img_shape[1]//resize_relation,img_shape[0]//resize_relation))\n",
    "    res=segmentationViBe4(img,background,50,4,nb_samples,30)\n",
    "    Image.fromarray(res).convert('L').save(input.replace(\"input\",\"output_vibe\").replace(\"in0\",\"out0\"),format=\"PNG\")\n",
    "    #plt.imshow(img,cmap='gray')\n",
    "    #plt.show()\n"
   ]
  },
  {
   "attachments": {},
   "cell_type": "markdown",
   "metadata": {},
   "source": [
    "### Comparaison"
   ]
  },
  {
   "cell_type": "code",
   "execution_count": 64,
   "metadata": {},
   "outputs": [],
   "source": [
    "labels=[\"highway\", \"office\", \"pedestrians\", \"PETS2006\"]\n",
    "output_data_sem_seg,output_data_vibe=output_dataset(labels)"
   ]
  },
  {
   "cell_type": "code",
   "execution_count": 37,
   "metadata": {},
   "outputs": [],
   "source": [
    "label=\"highway\"\n",
    "jaccard_coeff_vibe=[]\n",
    "jaccard_coeff_sem_seg=[]\n",
    "groundtruth_of_label=groundTruth_data[label][469:]\n",
    "for i in range(len(groundtruth_of_label)):\n",
    "    out_sem_seg=io.imread(output_data_sem_seg[label][i+469])\n",
    "    out_sem_seg[out_sem_seg==188]=255\n",
    "    out_vibe=io.imread(output_data_vibe[label][i+469])\n",
    "    grdtruth=io.imread(groundtruth_of_label[i])\n",
    "    grdtruth_c=np.copy(grdtruth)\n",
    "    grdtruth_c[grdtruth_c>=50]=255\n",
    "    #grdtruth[grdtruth<=50]=0\n",
    "    jaccard_coeff_vibe.append(jaccardCoeff(out_vibe,grdtruth_c))\n",
    "    grdtruth[grdtruth<=170]=0\n",
    "    #grdtruth[grdtruth<=50]=0\n",
    "    jaccard_coeff_sem_seg.append(jaccardCoeff(out_sem_seg,grdtruth))"
   ]
  },
  {
   "cell_type": "code",
   "execution_count": 60,
   "metadata": {},
   "outputs": [
    {
     "data": {
      "text/plain": [
       "array([  0, 255], dtype=uint8)"
      ]
     },
     "execution_count": 60,
     "metadata": {},
     "output_type": "execute_result"
    }
   ],
   "source": [
    "np.unique(out_sem_seg)"
   ]
  },
  {
   "cell_type": "code",
   "execution_count": 38,
   "metadata": {},
   "outputs": [
    {
     "data": {
      "text/plain": [
       "0.5112247805021408"
      ]
     },
     "execution_count": 38,
     "metadata": {},
     "output_type": "execute_result"
    }
   ],
   "source": [
    "np.mean(jaccard_coeff_vibe)"
   ]
  },
  {
   "cell_type": "code",
   "execution_count": 39,
   "metadata": {},
   "outputs": [
    {
     "data": {
      "text/plain": [
       "0.5549399375954839"
      ]
     },
     "execution_count": 39,
     "metadata": {},
     "output_type": "execute_result"
    }
   ],
   "source": [
    "np.mean(jaccard_coeff_sem_seg)"
   ]
  },
  {
   "cell_type": "code",
   "execution_count": 24,
   "metadata": {},
   "outputs": [],
   "source": [
    "label=\"pedestrians\"\n",
    "jaccard_coeff_vibe=[]\n",
    "jaccard_coeff_sem_seg=[]\n",
    "groundtruth_of_label=groundTruth_data[label][299:]\n",
    "for i in range(len(groundtruth_of_label)-1):\n",
    "    out_sem_seg=io.imread(output_data_sem_seg[label][i+299])\n",
    "    out_sem_seg[out_sem_seg==188]=255\n",
    "    out_vibe=io.imread(output_data_vibe[label][i+299])\n",
    "    grdtruth=io.imread(groundtruth_of_label[i])\n",
    "    #grdtruth[grdtruth<=170]=0\n",
    "    grdtruth[grdtruth>=50]=255\n",
    "    #grdtruth[grdtruth<=50]=0\n",
    "    jaccard_coeff_vibe.append(jaccardCoeff(out_vibe,grdtruth))\n",
    "    jaccard_coeff_sem_seg.append(jaccardCoeff(out_sem_seg,grdtruth))"
   ]
  },
  {
   "cell_type": "code",
   "execution_count": 27,
   "metadata": {},
   "outputs": [
    {
     "data": {
      "text/plain": [
       "0.6399453267665739"
      ]
     },
     "execution_count": 27,
     "metadata": {},
     "output_type": "execute_result"
    }
   ],
   "source": [
    "np.mean(jaccard_coeff_sem_seg)"
   ]
  },
  {
   "cell_type": "code",
   "execution_count": 26,
   "metadata": {},
   "outputs": [
    {
     "data": {
      "text/plain": [
       "0.6870762333609103"
      ]
     },
     "execution_count": 26,
     "metadata": {},
     "output_type": "execute_result"
    }
   ],
   "source": [
    "np.mean(jaccard_coeff_vibe)"
   ]
  },
  {
   "cell_type": "code",
   "execution_count": 53,
   "metadata": {},
   "outputs": [],
   "source": [
    "label=\"office\"\n",
    "jaccard_coeff_vibe=[]\n",
    "jaccard_coeff_sem_seg=[]\n",
    "groundtruth_of_label=groundTruth_data[label][569:]\n",
    "for i in range(len(groundtruth_of_label)-1):\n",
    "    out_sem_seg=io.imread(output_data_sem_seg[label][i+569])\n",
    "    out_sem_seg[out_sem_seg==188]=255\n",
    "    out_vibe=io.imread(output_data_vibe[label][i+569])\n",
    "    grdtruth=io.imread(groundtruth_of_label[i])\n",
    "    #grdtruth[grdtruth<=170]=0\n",
    "    grdtruth[grdtruth>=50]=255\n",
    "    jaccard_coeff_vibe.append(jaccardCoeff(out_vibe,grdtruth))\n",
    "    jaccard_coeff_sem_seg.append(jaccardCoeff(out_sem_seg,grdtruth))"
   ]
  },
  {
   "cell_type": "code",
   "execution_count": 54,
   "metadata": {},
   "outputs": [
    {
     "data": {
      "text/plain": [
       "0.8457899009246989"
      ]
     },
     "execution_count": 54,
     "metadata": {},
     "output_type": "execute_result"
    }
   ],
   "source": [
    "np.mean(jaccard_coeff_sem_seg)"
   ]
  },
  {
   "cell_type": "code",
   "execution_count": 55,
   "metadata": {},
   "outputs": [
    {
     "data": {
      "text/plain": [
       "0.23826819268675165"
      ]
     },
     "execution_count": 55,
     "metadata": {},
     "output_type": "execute_result"
    }
   ],
   "source": [
    "np.mean(jaccard_coeff_vibe)"
   ]
  },
  {
   "cell_type": "code",
   "execution_count": 36,
   "metadata": {},
   "outputs": [],
   "source": [
    "label=\"PETS2006\"\n",
    "jaccard_coeff_vibe=[]\n",
    "jaccard_coeff_sem_seg=[]\n",
    "groundtruth_of_label=groundTruth_data[label][299:]\n",
    "for i in range(len(groundtruth_of_label)-1):\n",
    "    out_sem_seg=io.imread(output_data_sem_seg[label][i+299])\n",
    "    out_sem_seg[out_sem_seg==169]=0\n",
    "    out_sem_seg[out_sem_seg==188]=255\n",
    "    out_vibe=io.imread(output_data_vibe[label][i+299])\n",
    "    grdtruth=io.imread(groundtruth_of_label[i])\n",
    "    #grdtruth[grdtruth<=170]=0\n",
    "    grdtruth[grdtruth>=50]=255\n",
    "    jaccard_coeff_vibe.append(jaccardCoeff(out_vibe,grdtruth))\n",
    "    jaccard_coeff_sem_seg.append(jaccardCoeff(out_sem_seg,grdtruth))"
   ]
  },
  {
   "cell_type": "code",
   "execution_count": 40,
   "metadata": {},
   "outputs": [
    {
     "data": {
      "text/plain": [
       "0.6326603587576882"
      ]
     },
     "execution_count": 40,
     "metadata": {},
     "output_type": "execute_result"
    }
   ],
   "source": [
    "np.mean(jaccard_coeff_sem_seg)"
   ]
  },
  {
   "cell_type": "code",
   "execution_count": 39,
   "metadata": {},
   "outputs": [
    {
     "data": {
      "text/plain": [
       "0.35016146407671317"
      ]
     },
     "execution_count": 39,
     "metadata": {},
     "output_type": "execute_result"
    }
   ],
   "source": [
    "np.mean(jaccard_coeff_vibe)"
   ]
  }
 ],
 "metadata": {
  "kernelspec": {
   "display_name": "Python 3",
   "language": "python",
   "name": "python3"
  },
  "language_info": {
   "codemirror_mode": {
    "name": "ipython",
    "version": 3
   },
   "file_extension": ".py",
   "mimetype": "text/x-python",
   "name": "python",
   "nbconvert_exporter": "python",
   "pygments_lexer": "ipython3",
   "version": "3.10.3"
  },
  "orig_nbformat": 4,
  "vscode": {
   "interpreter": {
    "hash": "755bca588c5ad61560da42c0cec298747f8b74f9b58b010e18f102b95c79ceda"
   }
  }
 },
 "nbformat": 4,
 "nbformat_minor": 2
}
