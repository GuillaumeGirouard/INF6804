{
  "cells": [
    {
      "cell_type": "markdown",
      "source": [
        "# TP n°3: Suivi Multi-Objet\n",
        "**Membres:**\n",
        "- Guillaume Girouard 1954899\n",
        "- Pierre-Emmanuel Rebours 2165286"
      ],
      "metadata": {
        "id": "EZ8dSPrCozfs"
      }
    },
    {
      "cell_type": "markdown",
      "source": [
        "On importe les librairies nécessaires"
      ],
      "metadata": {
        "id": "tpJELUcXaptA"
      }
    },
    {
      "cell_type": "code",
      "execution_count": null,
      "metadata": {
        "id": "nMZY2gTWGmUC"
      },
      "outputs": [],
      "source": [
        "!pip install ocsort"
      ]
    },
    {
      "cell_type": "code",
      "execution_count": null,
      "metadata": {
        "id": "6tZB7kEhGt4-"
      },
      "outputs": [],
      "source": [
        "from ocsort.ocsort import OCSort as OCSort"
      ]
    },
    {
      "cell_type": "code",
      "execution_count": null,
      "metadata": {
        "id": "yDSoX4wscOll"
      },
      "outputs": [],
      "source": [
        "#!git clone https://github.com/noahcao/OC_SORT.git\n",
        "!git clone https://github.com/JonathonLuiten/TrackEval.git"
      ]
    },
    {
      "cell_type": "code",
      "execution_count": null,
      "metadata": {
        "id": "XxdPU_WIcOln"
      },
      "outputs": [],
      "source": [
        "!wget https://omnomnom.vision.rwth-aachen.de/data/TrackEval/data.zip\n",
        "!unzip data.zip -d TrackEval"
      ]
    },
    {
      "cell_type": "code",
      "execution_count": null,
      "metadata": {
        "colab": {
          "base_uri": "https://localhost:8080/"
        },
        "id": "sSF2VCb9cOlo",
        "outputId": "9d2d5575-c60a-4b48-99e5-a645581ca10f"
      },
      "outputs": [
        {
          "output_type": "stream",
          "name": "stdout",
          "text": [
            "Looking in indexes: https://pypi.org/simple, https://us-python.pkg.dev/colab-wheels/public/simple/\n",
            "Requirement already satisfied: natsort in /usr/local/lib/python3.9/dist-packages (8.3.1)\n"
          ]
        }
      ],
      "source": [
        "!pip install natsort"
      ]
    },
    {
      "cell_type": "code",
      "execution_count": null,
      "metadata": {
        "id": "1elcghoscOlo"
      },
      "outputs": [],
      "source": [
        "import os, sys, time, datetime, random\n",
        "import torch\n",
        "from torch.utils.data import DataLoader\n",
        "from torchvision import datasets, transforms\n",
        "from torch.autograd import Variable\n",
        "import matplotlib.pyplot as plt\n",
        "import matplotlib.patches as patches\n",
        "from PIL import Image\n",
        "import cv2\n",
        "import numpy as np\n",
        "\n",
        "#from OC_SORT.trackers.ocsort_tracker.ocsort import OCSort\n",
        "from dataloader import dataloader"
      ]
    },
    {
      "cell_type": "code",
      "execution_count": null,
      "metadata": {
        "id": "sEq5e-V1XvT0"
      },
      "outputs": [],
      "source": [
        "import tensorflow as tf"
      ]
    },
    {
      "cell_type": "code",
      "execution_count": null,
      "metadata": {
        "id": "tbILHLBSiGOd"
      },
      "outputs": [],
      "source": [
        "pip install filterpy"
      ]
    },
    {
      "cell_type": "markdown",
      "metadata": {
        "id": "hbf8TJkZcOlr"
      },
      "source": [
        "### Récupération des résultats pour MOT17"
      ]
    },
    {
      "cell_type": "markdown",
      "source": [
        "Les commandes suivantes permettent d'installer les données du dataset MOT17 mais aussi de préparer l'utilisation de TrackEval."
      ],
      "metadata": {
        "id": "EqzMGGsotpfn"
      }
    },
    {
      "cell_type": "code",
      "execution_count": null,
      "metadata": {
        "colab": {
          "base_uri": "https://localhost:8080/"
        },
        "id": "jBHf7jwHHw-c",
        "outputId": "085080c8-4a28-48bf-af37-38f51dac1fba"
      },
      "outputs": [
        {
          "name": "stdout",
          "output_type": "stream",
          "text": [
            "--2023-04-08 19:44:06--  https://motchallenge.net/data/MOT17.zip\n",
            "Resolving motchallenge.net (motchallenge.net)... 131.159.19.34, 2a09:80c0:18::1034\n",
            "Connecting to motchallenge.net (motchallenge.net)|131.159.19.34|:443... connected.\n",
            "HTTP request sent, awaiting response... 200 OK\n",
            "Length: 5860214001 (5.5G) [application/zip]\n",
            "Saving to: ‘MOT17.zip’\n",
            "\n",
            "MOT17.zip           100%[===================>]   5.46G  26.5MB/s    in 4m 39s  \n",
            "\n",
            "2023-04-08 19:48:46 (20.1 MB/s) - ‘MOT17.zip’ saved [5860214001/5860214001]\n",
            "\n"
          ]
        }
      ],
      "source": [
        "!wget https://motchallenge.net/data/MOT17.zip"
      ]
    },
    {
      "cell_type": "code",
      "execution_count": null,
      "metadata": {
        "id": "AcqxG4lpHy8Y"
      },
      "outputs": [],
      "source": [
        "!unzip MOT17.zip"
      ]
    },
    {
      "cell_type": "code",
      "execution_count": null,
      "metadata": {
        "id": "0L7GRXz_Igwe"
      },
      "outputs": [],
      "source": [
        "!mkdir ./TrackEval/data/trackers/mot_challenge/MOT17_tp-train"
      ]
    },
    {
      "cell_type": "code",
      "execution_count": null,
      "metadata": {
        "id": "Z2E42e0lInFy"
      },
      "outputs": [],
      "source": [
        "!mkdir ./TrackEval/data/trackers/mot_challenge/MOT17_tp-train/OC-SORT"
      ]
    },
    {
      "cell_type": "code",
      "execution_count": null,
      "metadata": {
        "id": "170EUVa7IuT8"
      },
      "outputs": [],
      "source": [
        "!mkdir ./TrackEval/data/trackers/mot_challenge/MOT17_tp-train/OC-SORT/data"
      ]
    },
    {
      "cell_type": "code",
      "execution_count": null,
      "metadata": {
        "id": "nVzhRP4HJm-O"
      },
      "outputs": [],
      "source": [
        "!mkdir ./TrackEval/data/gt/mot_challenge/MOT17_tp-train"
      ]
    },
    {
      "cell_type": "code",
      "execution_count": null,
      "metadata": {
        "id": "Td-pQ1zsKN34"
      },
      "outputs": [],
      "source": [
        "!cp -R ./TrackEval/data/gt/mot_challenge/MOT17-train/MOT17-11-DPM ./TrackEval/data/gt/mot_challenge/MOT17_tp-train"
      ]
    },
    {
      "cell_type": "code",
      "execution_count": null,
      "metadata": {
        "id": "IWLpinobLraE"
      },
      "outputs": [],
      "source": [
        "!echo -e 'name\\nMOT17-02-DPM\\nMOT17-04-DPM\\nMOT17-05-DPM\\nMOT17-09-DPM\\nMOT17-10-DPM\\nMOT17-11-DPM\\nMOT17-13-DPM' > './TrackEval/data/gt/mot_challenge/seqmaps/MOT17_tp-train.txt'"
      ]
    },
    {
      "cell_type": "code",
      "execution_count": null,
      "metadata": {
        "id": "8mqeljbQMpuL"
      },
      "outputs": [],
      "source": [
        "!cp './TrackEval/data/gt/mot_challenge/seqmaps/MOT17_tp-train.txt' './TrackEval/data/gt/mot_challenge/seqmaps/MOT17_tp-all.txt'"
      ]
    },
    {
      "cell_type": "code",
      "execution_count": null,
      "metadata": {
        "id": "wES3_W1ROBqJ"
      },
      "outputs": [],
      "source": [
        "!cp './TrackEval/data/gt/mot_challenge/seqmaps/MOT17_tp-train.txt' './TrackEval/data/gt/mot_challenge/seqmaps/MOT17_tp-test.txt'"
      ]
    },
    {
      "cell_type": "code",
      "execution_count": null,
      "metadata": {
        "id": "oU8jp4WlSevI"
      },
      "outputs": [],
      "source": [
        "nb_frame=dict({\"MOT17-02-DPM\":600,\"MOT17-04-DPM\":1050,\"MOT17-05-DPM\":837,\n",
        "               \"MOT17-09-DPM\":525,\"MOT17-10-DPM\":654,\"MOT17-11-DPM\":900,\n",
        "               \"MOT17-13-DPM\":750})"
      ]
    },
    {
      "cell_type": "code",
      "execution_count": null,
      "metadata": {
        "id": "LAhtIm1DfhcF"
      },
      "outputs": [],
      "source": [
        "!cp -R './TrackEval/data/gt/mot_challenge/MOT17-train/MOT17-02-DPM' './TrackEval/data/gt/mot_challenge/MOT17_tp-train/'\n",
        "!cp -R './TrackEval/data/gt/mot_challenge/MOT17-train/MOT17-04-DPM' './TrackEval/data/gt/mot_challenge/MOT17_tp-train/'"
      ]
    },
    {
      "cell_type": "code",
      "execution_count": null,
      "metadata": {
        "id": "JCl4rqEJgOmB"
      },
      "outputs": [],
      "source": [
        "!cp -R './TrackEval/data/gt/mot_challenge/MOT17-train/MOT17-05-DPM' './TrackEval/data/gt/mot_challenge/MOT17_tp-train/'\n",
        "!cp -R './TrackEval/data/gt/mot_challenge/MOT17-train/MOT17-09-DPM' './TrackEval/data/gt/mot_challenge/MOT17_tp-train/'\n",
        "!cp -R './TrackEval/data/gt/mot_challenge/MOT17-train/MOT17-10-DPM' './TrackEval/data/gt/mot_challenge/MOT17_tp-train/'\n",
        "!cp -R './TrackEval/data/gt/mot_challenge/MOT17-train/MOT17-11-DPM' './TrackEval/data/gt/mot_challenge/MOT17_tp-train/'\n",
        "!cp -R './TrackEval/data/gt/mot_challenge/MOT17-train/MOT17-13-DPM' './TrackEval/data/gt/mot_challenge/MOT17_tp-train/'"
      ]
    },
    {
      "cell_type": "markdown",
      "source": [
        "On importe le modèle utilisé pour la detection: Yolov5x"
      ],
      "metadata": {
        "id": "luIaRRjXa9Er"
      }
    },
    {
      "cell_type": "code",
      "execution_count": null,
      "metadata": {
        "colab": {
          "base_uri": "https://localhost:8080/"
        },
        "id": "iNftimM_3rGA",
        "outputId": "66532738-418f-447c-bc35-ffec83082e04"
      },
      "outputs": [
        {
          "name": "stderr",
          "output_type": "stream",
          "text": [
            "/usr/local/lib/python3.9/dist-packages/torch/hub.py:286: UserWarning: You are about to download and run code from an untrusted repository. In a future release, this won't be allowed. To add the repository to your trusted list, change the command to {calling_fn}(..., trust_repo=False) and a command prompt will appear asking for an explicit confirmation of trust, or load(..., trust_repo=True), which will assume that the prompt is to be answered with 'yes'. You can also use load(..., trust_repo='check') which will only prompt for confirmation if the repo is not already trusted. This will eventually be the default behaviour\n",
            "  warnings.warn(\n",
            "Downloading: \"https://github.com/ultralytics/yolov5/zipball/master\" to /root/.cache/torch/hub/master.zip\n",
            "YOLOv5 🚀 2023-4-8 Python-3.9.16 torch-2.0.0+cu118 CPU\n",
            "\n"
          ]
        },
        {
          "name": "stdout",
          "output_type": "stream",
          "text": [
            "[Errno 2] No such file or directory: '/usr/local/lib/python3.9/dist-packages/scipy-1.10.1.dist-info/METADATA'\n"
          ]
        },
        {
          "name": "stderr",
          "output_type": "stream",
          "text": [
            "Downloading https://github.com/ultralytics/yolov5/releases/download/v7.0/yolov5x.pt to yolov5x.pt...\n",
            "100%|██████████| 166M/166M [00:01<00:00, 147MB/s]\n",
            "\n",
            "Fusing layers... \n",
            "YOLOv5x summary: 444 layers, 86705005 parameters, 0 gradients\n",
            "Adding AutoShape... \n"
          ]
        }
      ],
      "source": [
        "model = torch.hub.load('ultralytics/yolov5', 'yolov5x', pretrained=True)"
      ]
    },
    {
      "cell_type": "code",
      "execution_count": null,
      "metadata": {
        "id": "inDl77qDVMIk"
      },
      "outputs": [],
      "source": [
        "def get_result(dl,nb_frame):\n",
        "  \"\"\"\n",
        "    fonction pour appliquer notre méthode sur un dataframe et enregistrer les résultats dans un fichier .txt\n",
        "    Args:\n",
        "        dl: dataloader important un dataset\n",
        "        nb_frame: nombre de frame du dataset récupérer par le dataloader\n",
        "  \"\"\"\n",
        "  #Il faut réinitialiser le traceur à chaque nouveau dataset:\n",
        "  tracker = OCSortK()\n",
        "  tracker.det_thresh=0.5\n",
        "  for i in range(nb_frame):\n",
        "    image=dl.load_input(i)\n",
        "    img_size=np.shape(image)\n",
        "\n",
        "    #Détection\n",
        "    results = model(image)\n",
        "    res=results.pandas().xyxy[0][['xmin','ymin','xmax','ymax','confidence','class']]\n",
        "    cup_results=res[res['class']==0]\n",
        "    np_res=cup_results.to_numpy()\n",
        "    tf_res=tf.constant(np_res)\n",
        "    #suivi\n",
        "    online_targets = tracker.update(tf_res,_)\n",
        "    dl.load_result(i+1,online_targets,benchmark_type='MOT')\n",
        "  dl.f.close()\n"
      ]
    },
    {
      "cell_type": "markdown",
      "source": [
        "Récupération des résultats pour tous les dataframe de MOT17_tp"
      ],
      "metadata": {
        "id": "ZJNPtI8jdkod"
      }
    },
    {
      "cell_type": "code",
      "execution_count": null,
      "metadata": {
        "colab": {
          "base_uri": "https://localhost:8080/"
        },
        "id": "o_2ddO3oPJSU",
        "outputId": "0721b776-0994-45d8-fe87-d0f62578f647"
      },
      "outputs": [
        {
          "name": "stdout",
          "output_type": "stream",
          "text": [
            "Résultat du dataset MOT17-13-DPM disponible\n"
          ]
        }
      ],
      "source": [
        "f=open('./TrackEval/data/gt/mot_challenge/seqmaps/MOT17_tp-train.txt')\n",
        "for i,row in enumerate(f):\n",
        "  if i>=1:\n",
        "    row=row[:-1]\n",
        "    dl=dataloader(\"./MOT17/train/\"+row+\"/img1/\",\"./TrackEval/data/trackers/mot_challenge/MOT17_tp-train/OC-SORT/data/\"+row+\".txt\")\n",
        "    get_result(dl,nb_frame[row])\n",
        "    print(\"Résultat du dataset \"+row+\" disponible\")\n",
        "f.close()"
      ]
    },
    {
      "cell_type": "markdown",
      "source": [
        "Calcul des performances"
      ],
      "metadata": {
        "id": "d9A95IlMdrS6"
      }
    },
    {
      "cell_type": "code",
      "execution_count": null,
      "metadata": {
        "colab": {
          "base_uri": "https://localhost:8080/"
        },
        "id": "Yl_t3lj7lLFo",
        "outputId": "7afd063f-15fe-4eb1-bb06-5dc46d840144"
      },
      "outputs": [
        {
          "name": "stdout",
          "output_type": "stream",
          "text": [
            "\n",
            "Eval Config:\n",
            "USE_PARALLEL         : False                         \n",
            "NUM_PARALLEL_CORES   : 1                             \n",
            "BREAK_ON_ERROR       : True                          \n",
            "RETURN_ON_ERROR      : False                         \n",
            "LOG_ON_ERROR         : /content/TrackEval/error_log.txt\n",
            "PRINT_RESULTS        : True                          \n",
            "PRINT_ONLY_COMBINED  : False                         \n",
            "PRINT_CONFIG         : True                          \n",
            "TIME_PROGRESS        : True                          \n",
            "DISPLAY_LESS_PROGRESS : False                         \n",
            "OUTPUT_SUMMARY       : True                          \n",
            "OUTPUT_EMPTY_CLASSES : True                          \n",
            "OUTPUT_DETAILED      : True                          \n",
            "PLOT_CURVES          : True                          \n",
            "\n",
            "MotChallenge2DBox Config:\n",
            "PRINT_CONFIG         : True                          \n",
            "GT_FOLDER            : /content/TrackEval/data/gt/mot_challenge/\n",
            "TRACKERS_FOLDER      : /content/TrackEval/data/trackers/mot_challenge/\n",
            "OUTPUT_FOLDER        : None                          \n",
            "TRACKERS_TO_EVAL     : ['OC-SORT']                   \n",
            "CLASSES_TO_EVAL      : ['pedestrian']                \n",
            "BENCHMARK            : MOT17_tp                      \n",
            "SPLIT_TO_EVAL        : train                         \n",
            "INPUT_AS_ZIP         : False                         \n",
            "DO_PREPROC           : True                          \n",
            "TRACKER_SUB_FOLDER   : data                          \n",
            "OUTPUT_SUB_FOLDER    :                               \n",
            "TRACKER_DISPLAY_NAMES : None                          \n",
            "SEQMAP_FOLDER        : None                          \n",
            "SEQMAP_FILE          : None                          \n",
            "SEQ_INFO             : None                          \n",
            "GT_LOC_FORMAT        : {gt_folder}/{seq}/gt/gt.txt   \n",
            "SKIP_SPLIT_FOL       : False                         \n",
            "\n",
            "Evaluating 1 tracker(s) on 1 sequence(s) for 1 class(es) on MotChallenge2DBox dataset using the following metrics: HOTA, Count\n",
            "\n",
            "\n",
            "Evaluating OC-SORT\n",
            "\n",
            "    MotChallenge2DBox.get_raw_seq_data(OC-SORT, MOT17-13-DPM)              0.2401 sec\n",
            "    MotChallenge2DBox.get_preprocessed_seq_data(pedestrian)                0.2296 sec\n",
            "    HOTA.eval_sequence()                                                   0.2796 sec\n",
            "    Count.eval_sequence()                                                  0.0000 sec\n",
            "1 eval_sequence(MOT17-13-DPM, OC-SORT)                                   0.7529 sec\n",
            "\n",
            "All sequences for OC-SORT finished in 0.75 seconds\n",
            "\n",
            "HOTA: OC-SORT-pedestrian           HOTA      DetA      AssA      DetRe     DetPr     AssRe     AssPr     LocA      OWTA      HOTA(0)   LocA(0)   HOTALocA(0)\n",
            "MOT17-13-DPM                       30.081    21.038    43.226    21.617    78.745    45.502    79.72     82.668    30.528    36.965    78.453    29        \n",
            "COMBINED                           30.081    21.038    43.226    21.617    78.745    45.502    79.72     82.668    30.528    36.965    78.453    29        \n",
            "\n",
            "Count: OC-SORT-pedestrian          Dets      GT_Dets   IDs       GT_IDs    \n",
            "MOT17-13-DPM                       3196      11642     74        110       \n",
            "COMBINED                           3196      11642     74        110       \n",
            "\n",
            "Timing analysis:\n",
            "MotChallenge2DBox.get_raw_seq_data                                     0.2401 sec\n",
            "MotChallenge2DBox.get_preprocessed_seq_data                            0.2296 sec\n",
            "HOTA.eval_sequence                                                     0.2796 sec\n",
            "Count.eval_sequence                                                    0.0000 sec\n",
            "eval_sequence                                                          0.7529 sec\n",
            "Evaluator.evaluate                                                     2.9551 sec\n"
          ]
        }
      ],
      "source": [
        "!python TrackEval/scripts/run_mot_challenge.py --BENCHMARK MOT17_tp --SPLIT_TO_EVAL train --TRACKERS_TO_EVAL OC-SORT --METRICS HOTA --USE_PARALLEL False --NUM_PARALLEL_CORES 1"
      ]
    },
    {
      "cell_type": "code",
      "execution_count": null,
      "metadata": {
        "id": "GXijE4slhddT"
      },
      "outputs": [],
      "source": [
        "!python TrackEval/scripts/run_mot_challenge.py --BENCHMARK MOT17_tp --SPLIT_TO_EVAL train --TRACKERS_TO_EVAL OC-SORT --METRICS HOTA --USE_PARALLEL False --NUM_PARALLEL_CORES 1"
      ]
    },
    {
      "cell_type": "markdown",
      "metadata": {
        "id": "a7lJMLJscOlu"
      },
      "source": [
        "### Récupération des résultats pour la vidéo du tp"
      ]
    },
    {
      "cell_type": "markdown",
      "source": [
        "Importation du modèle Yolo5vx"
      ],
      "metadata": {
        "id": "_6GHNTj-dx6O"
      }
    },
    {
      "cell_type": "code",
      "execution_count": null,
      "metadata": {
        "colab": {
          "base_uri": "https://localhost:8080/"
        },
        "id": "Bx9Dt9D_Rczi",
        "outputId": "db2e14db-a23d-4d46-c003-0ce06faf2595"
      },
      "outputs": [
        {
          "output_type": "stream",
          "name": "stderr",
          "text": [
            "/usr/local/lib/python3.9/dist-packages/torch/hub.py:286: UserWarning: You are about to download and run code from an untrusted repository. In a future release, this won't be allowed. To add the repository to your trusted list, change the command to {calling_fn}(..., trust_repo=False) and a command prompt will appear asking for an explicit confirmation of trust, or load(..., trust_repo=True), which will assume that the prompt is to be answered with 'yes'. You can also use load(..., trust_repo='check') which will only prompt for confirmation if the repo is not already trusted. This will eventually be the default behaviour\n",
            "  warnings.warn(\n",
            "Downloading: \"https://github.com/ultralytics/yolov5/zipball/master\" to /root/.cache/torch/hub/master.zip\n",
            "YOLOv5 🚀 2023-4-12 Python-3.9.16 torch-2.0.0+cu118 CPU\n",
            "\n"
          ]
        },
        {
          "output_type": "stream",
          "name": "stdout",
          "text": [
            "[Errno 2] No such file or directory: '/usr/local/lib/python3.9/dist-packages/scipy-1.10.1.dist-info/METADATA'\n"
          ]
        },
        {
          "output_type": "stream",
          "name": "stderr",
          "text": [
            "Downloading https://github.com/ultralytics/yolov5/releases/download/v7.0/yolov5x.pt to yolov5x.pt...\n",
            "100%|██████████| 166M/166M [00:01<00:00, 88.2MB/s]\n",
            "\n",
            "Fusing layers... \n",
            "YOLOv5x summary: 444 layers, 86705005 parameters, 0 gradients\n",
            "Adding AutoShape... \n"
          ]
        }
      ],
      "source": [
        "model = torch.hub.load('ultralytics/yolov5', 'yolov5x', pretrained=True)"
      ]
    },
    {
      "cell_type": "markdown",
      "source": [
        "Récupération des résultats"
      ],
      "metadata": {
        "id": "K9viF_Srd19x"
      }
    },
    {
      "cell_type": "code",
      "execution_count": null,
      "metadata": {
        "id": "ST7ZH3ekcOlv"
      },
      "outputs": [],
      "source": [
        "dl=dataloader(\"./frames/\",\"./results.txt\")\n",
        "nb_frame=len(dl.input_data)\n",
        "tracker = OCSort()\n",
        "tracker.det_thresh=0.5\n",
        "for i in range(nb_frame):\n",
        "  image=dl.load_input(i)\n",
        "  img_size=np.shape(image)\n",
        "  \n",
        "  #détection\n",
        "  results = model(image)\n",
        "  res=results.pandas().xyxy[0][['xmin','ymin','xmax','ymax','confidence','class']]\n",
        "  cup_results=res[res['class']==41]\n",
        "  np_res=cup_results.to_numpy()\n",
        "  tf_res=tf.constant(np_res)\n",
        "  #suivi\n",
        "  online_targets = tracker.update(tf_res,_)#,img_size,img_size)\n",
        "  dl.load_result(i,online_targets)\n",
        "dl.f.close()"
      ]
    }
  ],
  "metadata": {
    "colab": {
      "collapsed_sections": [
        "hbf8TJkZcOlr",
        "a7lJMLJscOlu"
      ],
      "provenance": []
    },
    "kernelspec": {
      "display_name": "Python 3",
      "language": "python",
      "name": "python3"
    },
    "language_info": {
      "codemirror_mode": {
        "name": "ipython",
        "version": 3
      },
      "file_extension": ".py",
      "mimetype": "text/x-python",
      "name": "python",
      "nbconvert_exporter": "python",
      "pygments_lexer": "ipython3",
      "version": "3.10.0"
    }
  },
  "nbformat": 4,
  "nbformat_minor": 0
}